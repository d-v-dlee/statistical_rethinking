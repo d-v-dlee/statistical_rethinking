{
 "cells": [
  {
   "cell_type": "code",
   "execution_count": 1,
   "metadata": {},
   "outputs": [],
   "source": [
    "import scipy.stats as ss\n",
    "import numpy as np\n",
    "import matplotlib.pyplot as plt\n",
    "import pymc3"
   ]
  },
  {
   "cell_type": "markdown",
   "metadata": {},
   "source": [
    "## Sampling from Posterior\n",
    "can then calculate\n",
    "- intervals\n",
    "- point estimates\n",
    "- posterior predictive checks\n",
    "\n",
    "#### Posterior Predictive Checks\n",
    "combine uncertainty about parameters (via posterior distribution) with uncertainty about outcomes (via assumed likelihood) to verify software/model checking.\n",
    "\n",
    "\n",
    "### 1. Sampling from grid-approximate posterior"
   ]
  },
  {
   "cell_type": "code",
   "execution_count": 2,
   "metadata": {},
   "outputs": [],
   "source": [
    "### define grid - potentially prob for p\n",
    "p_grid = np.linspace(0, 1, 1000)\n",
    "\n",
    "### define prior \n",
    "prior = np.repeat(1, 1000)\n",
    "\n",
    "### likelihood at each value in grid\n",
    "likelihood = ss.binom.pmf(6, 9, p=p_grid)\n",
    "\n",
    "### compute product of likelihood and prior\n",
    "unstd_posterior = likelihood * prior\n",
    "\n",
    "### standardize posterior\n",
    "posterior = unstd_posterior / sum(unstd_posterior)"
   ]
  },
  {
   "cell_type": "code",
   "execution_count": 3,
   "metadata": {},
   "outputs": [],
   "source": [
    "# sample from posterior\n",
    "samples = np.random.choice(a = p_grid, replace=True, p=posterior, size=10000)"
   ]
  },
  {
   "cell_type": "code",
   "execution_count": 4,
   "metadata": {},
   "outputs": [
    {
     "data": {
      "text/plain": [
       "[<matplotlib.lines.Line2D at 0x23358cde5c8>]"
      ]
     },
     "execution_count": 4,
     "metadata": {},
     "output_type": "execute_result"
    },
    {
     "data": {
      "image/png": "[encoded data removed]",
      "text/plain": [
       "<Figure size 432x288 with 1 Axes>"
      ]
     },
     "metadata": {
      "needs_background": "light"
     },
     "output_type": "display_data"
    }
   ],
   "source": [
    "plt.plot(samples)"
   ]
  },
  {
   "cell_type": "code",
   "execution_count": 5,
   "metadata": {},
   "outputs": [
    {
     "data": {
      "text/plain": [
       "Text(0.5, 0, 'proportion of water (p)')"
      ]
     },
     "execution_count": 5,
     "metadata": {},
     "output_type": "execute_result"
    },
    {
     "data": {
      "image/png": "[encoded data removed]",
      "text/plain": [
       "<Figure size 432x288 with 1 Axes>"
      ]
     },
     "metadata": {
      "needs_background": "light"
     },
     "output_type": "display_data"
    }
   ],
   "source": [
    "plt.hist(samples, density=True, bins=50)\n",
    "plt.xlabel('proportion of water (p)')"
   ]
  },
  {
   "cell_type": "markdown",
   "metadata": {},
   "source": [
    "More samples look closer to ideal distribution."
   ]
  },
  {
   "cell_type": "code",
   "execution_count": 6,
   "metadata": {},
   "outputs": [
    {
     "data": {
      "text/plain": [
       "Text(0.5, 0, 'proportion of water (p)')"
      ]
     },
     "execution_count": 6,
     "metadata": {},
     "output_type": "execute_result"
    },
    {
     "data": {
      "image/png": "[encoded data removed]",
      "text/plain": [
       "<Figure size 432x288 with 1 Axes>"
      ]
     },
     "metadata": {
      "needs_background": "light"
     },
     "output_type": "display_data"
    }
   ],
   "source": [
    "# sample from posterior\n",
    "samples = np.random.choice(a = p_grid, replace=True, p=posterior, size=1000000)\n",
    "\n",
    "plt.hist(samples, density=True, bins=50)\n",
    "plt.xlabel('proportion of water (p)')"
   ]
  },
  {
   "cell_type": "markdown",
   "metadata": {},
   "source": [
    "### Sampling to Summarize\n",
    "- want to interpret posterior distribution and answer questions like:\n",
    "\n",
    "- how much posterior prob lies below some parameter value?\n",
    "- how much posterior prob lies between two parameter values?\n",
    "- which range contains 90% of posterior prob...etc"
   ]
  },
  {
   "cell_type": "markdown",
   "metadata": {},
   "source": [
    "##### Intervals of defined boundaries\n",
    "- what is posterior prob that proprotion of water is less than 50%?"
   ]
  },
  {
   "cell_type": "code",
   "execution_count": 7,
   "metadata": {},
   "outputs": [
    {
     "data": {
      "text/plain": [
       "0.17187458902022873"
      ]
     },
     "execution_count": 7,
     "metadata": {},
     "output_type": "execute_result"
    }
   ],
   "source": [
    "# posterior prob that proportion of water is less than 0.5\n",
    "np.sum(posterior[p_grid < 0.5])"
   ]
  },
  {
   "cell_type": "markdown",
   "metadata": {},
   "source": [
    "Interpreted as - 17% of posterior probability lies below 0.5. so 17% prob that water covers less than 50% of earth based on 6 W on 9 tosses."
   ]
  },
  {
   "cell_type": "code",
   "execution_count": 8,
   "metadata": {},
   "outputs": [
    {
     "data": {
      "text/plain": [
       "0.172113"
      ]
     },
     "execution_count": 8,
     "metadata": {},
     "output_type": "execute_result"
    }
   ],
   "source": [
    "# now calculating from posterior\n",
    "np.sum(samples < 0.5) / len(samples)"
   ]
  },
  {
   "cell_type": "markdown",
   "metadata": {},
   "source": [
    "what is posterior prob that proportion of water is between 50 and 75%?"
   ]
  },
  {
   "cell_type": "code",
   "execution_count": 9,
   "metadata": {},
   "outputs": [
    {
     "data": {
      "text/plain": [
       "0.604354"
      ]
     },
     "execution_count": 9,
     "metadata": {},
     "output_type": "execute_result"
    }
   ],
   "source": [
    "np.sum((samples > 0.5) & (samples < 0.75)) / len(samples)"
   ]
  },
  {
   "cell_type": "markdown",
   "metadata": {},
   "source": [
    "about 61% of probability distribution lies between p having a value of 0.5 and 0.75"
   ]
  },
  {
   "cell_type": "markdown",
   "metadata": {},
   "source": [
    "#### Intervals of Defined Mass aka confidence interval\n",
    "\n",
    "in bayesian stats, confidence interval == credible interval.\n",
    "we want to know which two parameter values that contain between them a specified amount of posterior prob, a **posterior mass**\n",
    "\n",
    "example: which two parameters contain 80% of posterior distribution starting from p=0?"
   ]
  },
  {
   "cell_type": "code",
   "execution_count": 10,
   "metadata": {},
   "outputs": [
    {
     "data": {
      "text/plain": [
       "0.7607607607607607"
      ]
     },
     "execution_count": 10,
     "metadata": {},
     "output_type": "execute_result"
    }
   ],
   "source": [
    "# 80% of prob distribution between 0 and 80th percentile\n",
    "np.quantile(samples, 0.8)"
   ]
  },
  {
   "cell_type": "markdown",
   "metadata": {},
   "source": [
    "80% of the prob distribution lies between p having parameter values between p=0 and p=0.76."
   ]
  },
  {
   "cell_type": "code",
   "execution_count": 11,
   "metadata": {},
   "outputs": [
    {
     "data": {
      "text/plain": [
       "array([0.44844845, 0.81281281])"
      ]
     },
     "execution_count": 11,
     "metadata": {},
     "output_type": "execute_result"
    }
   ],
   "source": [
    "# 80% of prob distribution between 10th and 90th percentile\n",
    "np.quantile(samples, (0.1, 0.9))"
   ]
  },
  {
   "cell_type": "markdown",
   "metadata": {},
   "source": [
    "range between p = 0.44 and p=0.81 contains 80% of prob distribution between 10th and 90th%. this is a **percentile interval** where both tails have an equal probability mass. these are useful for describing a distribution if it is not too asymetrical."
   ]
  },
  {
   "cell_type": "code",
   "execution_count": 12,
   "metadata": {},
   "outputs": [],
   "source": [
    "### define grid - potentially prob for p\n",
    "p_grid = np.linspace(0, 1, 1000)\n",
    "\n",
    "### define prior \n",
    "prior = np.repeat(1, 1000)\n",
    "\n",
    "### likelihood at each value in grid\n",
    "likelihood = ss.binom.pmf(3, 3, p=p_grid)\n",
    "\n",
    "### compute product of likelihood and prior\n",
    "unstd_posterior = likelihood * prior\n",
    "\n",
    "### standardize posterior\n",
    "posterior = unstd_posterior / sum(unstd_posterior)\n",
    "\n",
    "### draw samples\n",
    "samples = np.random.choice(a = p_grid, replace=True, p=posterior, size=10000)"
   ]
  },
  {
   "cell_type": "code",
   "execution_count": 38,
   "metadata": {},
   "outputs": [
    {
     "data": {
      "text/plain": [
       "array([0.70570571, 0.93193193])"
      ]
     },
     "execution_count": 38,
     "metadata": {},
     "output_type": "execute_result"
    }
   ],
   "source": [
    "# percentile interval bounds\n",
    "pi_bounds = np.quantile(samples, (0.25, 0.75))\n",
    "pi_mask = (samples >= pi_bounds[0]) & (samples <= pi_bounds[1])\n",
    "\n",
    "pi_bounds"
   ]
  },
  {
   "cell_type": "code",
   "execution_count": 43,
   "metadata": {},
   "outputs": [
    {
     "data": {
      "image/png": "[encoded data removed]",
      "text/plain": [
       "<Figure size 432x288 with 1 Axes>"
      ]
     },
     "metadata": {
      "needs_background": "light"
     },
     "output_type": "display_data"
    }
   ],
   "source": [
    "plt.hist(samples, bins=50, color='b', alpha=0.5)\n",
    "plt.hist(samples[pi_mask], color='r', alpha=1);"
   ]
  },
  {
   "cell_type": "markdown",
   "metadata": {},
   "source": [
    "Here middle 50% of prob distribution is between p having a value between 0.71 and 0.93; but we don't include areas where p=1 despite getting 3 W on 3 tosses.\n",
    "\n",
    "**Highest Posterior Density Interval (HPDI)** narrowest interval that contains that probability mass"
   ]
  },
  {
   "cell_type": "code",
   "execution_count": 18,
   "metadata": {},
   "outputs": [
    {
     "data": {
      "text/plain": [
       "array([0.84284284, 1.        ])"
      ]
     },
     "execution_count": 18,
     "metadata": {},
     "output_type": "execute_result"
    }
   ],
   "source": [
    "# narrowest interval containing 50%\n",
    "hpdi_bounds = pymc3.stats.hpd(samples, 0.5)\n",
    "hpdi_bounds"
   ]
  },
  {
   "cell_type": "code",
   "execution_count": 28,
   "metadata": {},
   "outputs": [
    {
     "data": {
      "text/plain": [
       "array([0.995996  , 0.97797798, 0.99399399, ..., 0.9019019 , 0.8978979 ,\n",
       "       0.98298298])"
      ]
     },
     "execution_count": 28,
     "metadata": {},
     "output_type": "execute_result"
    }
   ],
   "source": [
    "hpdi_mask = (samples >= hpdi_bounds[0]) & (samples <= hpdi_bounds[1])\n",
    "samples[hpdi_mask]"
   ]
  },
  {
   "cell_type": "code",
   "execution_count": 44,
   "metadata": {},
   "outputs": [
    {
     "data": {
      "image/png": "[encoded data removed]",
      "text/plain": [
       "<Figure size 432x288 with 1 Axes>"
      ]
     },
     "metadata": {
      "needs_background": "light"
     },
     "output_type": "display_data"
    }
   ],
   "source": [
    "plt.hist(samples, bins=50, color='b', alpha=0.5)\n",
    "plt.hist(samples[hpdi_mask], color='r', alpha=1);"
   ]
  },
  {
   "cell_type": "markdown",
   "metadata": {},
   "source": [
    "### Point estimates"
   ]
  },
  {
   "cell_type": "code",
   "execution_count": 49,
   "metadata": {},
   "outputs": [
    {
     "data": {
      "text/plain": [
       "1.0"
      ]
     },
     "execution_count": 49,
     "metadata": {},
     "output_type": "execute_result"
    }
   ],
   "source": [
    "# get point with highest posterior prob (MAP)\n",
    "p_grid[np.argmax(posterior)]"
   ]
  },
  {
   "cell_type": "code",
   "execution_count": 61,
   "metadata": {},
   "outputs": [],
   "source": [
    "from collections import Counter\n",
    "\n",
    "def get_map_from_posterior_samples(samples):\n",
    "    \"\"\"\n",
    "    pass in samples from posterior distrbution and \n",
    "    return value of parameter with highest probability\n",
    "    \"\"\"\n",
    "    counter = Counter()\n",
    "    for val in samples:\n",
    "        counter[val] += 1\n",
    "    \n",
    "    v=list(counter.values())\n",
    "    k=list(counter.keys())\n",
    "    return k[v.index(max(v))]"
   ]
  },
  {
   "cell_type": "code",
   "execution_count": 62,
   "metadata": {},
   "outputs": [
    {
     "data": {
      "text/plain": [
       "0.985985985985986"
      ]
     },
     "execution_count": 62,
     "metadata": {},
     "output_type": "execute_result"
    }
   ],
   "source": [
    "get_map_from_posterior_samples(samples)"
   ]
  },
  {
   "cell_type": "code",
   "execution_count": 63,
   "metadata": {},
   "outputs": [
    {
     "name": "stdout",
     "output_type": "stream",
     "text": [
      "Mean: 0.7998246246246247\n",
      "Median: 0.8428428428428428\n"
     ]
    }
   ],
   "source": [
    "print(f'Mean: {np.mean(samples)}')\n",
    "\n",
    "\n",
    "print(f'Median: {np.median(samples)}')"
   ]
  },
  {
   "cell_type": "markdown",
   "metadata": {},
   "source": [
    "### Sampling to simulate prediction\n",
    "generating impled observations from a model is useful for\n",
    "1. model checking\n",
    "2. software validation\n",
    "3. research design\n",
    "4. forecasting"
   ]
  },
  {
   "cell_type": "code",
   "execution_count": 68,
   "metadata": {},
   "outputs": [
    {
     "data": {
      "text/plain": [
       "array([0.09, 0.42, 0.49])"
      ]
     },
     "execution_count": 68,
     "metadata": {},
     "output_type": "execute_result"
    }
   ],
   "source": [
    "# prob of getting 0, 1, or 2 in binomial with 2 tosses\n",
    "ss.binom.pmf([0, 1, 2], 2, p=0.7)"
   ]
  },
  {
   "cell_type": "markdown",
   "metadata": {},
   "source": [
    "9% chance of obesrving 0/2, 42% chance of 1/2 and 49% of 2/2 with p=0.7."
   ]
  },
  {
   "cell_type": "code",
   "execution_count": 87,
   "metadata": {},
   "outputs": [
    {
     "data": {
      "text/plain": [
       "array([1])"
      ]
     },
     "execution_count": 87,
     "metadata": {},
     "output_type": "execute_result"
    }
   ],
   "source": [
    "# n - values it can take on 0, 1, 2\n",
    "# p - prob\n",
    "# size = numbers to draw\n",
    "np.random.binomial(n=2, p=0.7, size=1)"
   ]
  },
  {
   "cell_type": "code",
   "execution_count": 89,
   "metadata": {},
   "outputs": [],
   "source": [
    "dummy_w = np.random.binomial(n=2, p=0.7, size=100000)"
   ]
  },
  {
   "cell_type": "code",
   "execution_count": 102,
   "metadata": {},
   "outputs": [
    {
     "name": "stdout",
     "output_type": "stream",
     "text": [
      "2 = 0.493\n",
      "0 = 0.0884\n",
      "1 = 0.4185\n"
     ]
    }
   ],
   "source": [
    "counter = Counter()\n",
    "for x in dummy_w:\n",
    "    counter[x] +=1\n",
    "\n",
    "for k, v in counter.items():\n",
    "    print(f'{k} = {np.round(v/100000, 4)}')"
   ]
  },
  {
   "cell_type": "markdown",
   "metadata": {},
   "source": [
    "let's simulate 9 tosses - how often do we get 6?"
   ]
  },
  {
   "cell_type": "code",
   "execution_count": 107,
   "metadata": {},
   "outputs": [
    {
     "name": "stdout",
     "output_type": "stream",
     "text": [
      "4 = 0.073\n",
      "7 = 0.2665\n",
      "9 = 0.0409\n",
      "8 = 0.1577\n",
      "6 = 0.2658\n",
      "5 = 0.1708\n",
      "2 = 0.0038\n",
      "3 = 0.0211\n",
      "1 = 0.0004\n",
      "0 = 0.0\n"
     ]
    }
   ],
   "source": [
    "dummy_w = np.random.binomial(n=9, p=0.7, size=100000)\n",
    "\n",
    "counter = Counter()\n",
    "for x in dummy_w:\n",
    "    counter[x] +=1\n",
    "\n",
    "for k, v in counter.items():\n",
    "    print(f'{k} = {np.round(v/100000, 4)}')"
   ]
  },
  {
   "cell_type": "code",
   "execution_count": 108,
   "metadata": {},
   "outputs": [
    {
     "data": {
      "image/png": "[encoded data removed]",
      "text/plain": [
       "<Figure size 432x288 with 1 Axes>"
      ]
     },
     "metadata": {
      "needs_background": "light"
     },
     "output_type": "display_data"
    }
   ],
   "source": [
    "plt.hist(dummy_w, bins=50);"
   ]
  },
  {
   "cell_type": "markdown",
   "metadata": {},
   "source": [
    "Bayesian models are uncertain in two ways:\n",
    "1. observation uncertainty - for any unique value of the parameter *p* there is a unique implied pattern of observations we expect. Even if we know *p* with certainty, we don't know what the next observation will be.\n",
    "2. uncertainty about parameter (ex *p*) - posterior distribution over p embodies uncertainity. becaues there is uncertainty with p there is uncertainty with everything relying on p.\n",
    "\n",
    "#### Posterior Predictive Distribution\n",
    "Compute distribution of outcomes at each value of *p*, then average all of these distributions together. This distribution incorporates all of the uncertainity embodied in the posterior distribution for the parameter *p*."
   ]
  },
  {
   "cell_type": "code",
   "execution_count": 152,
   "metadata": {},
   "outputs": [
    {
     "data": {
      "image/png": "[encoded data removed]",
      "text/plain": [
       "<Figure size 432x288 with 1 Axes>"
      ]
     },
     "metadata": {
      "needs_background": "light"
     },
     "output_type": "display_data"
    }
   ],
   "source": [
    "w = np.random.binomial(n=9, p=0.6, size=10000)\n",
    "plt.hist(w, bins=50, density=True);"
   ]
  },
  {
   "cell_type": "code",
   "execution_count": 114,
   "metadata": {},
   "outputs": [],
   "source": [
    "### define grid - potentially prob for p\n",
    "p_grid = np.linspace(0, 1, 1000)\n",
    "\n",
    "### define prior \n",
    "prior = np.repeat(1, 1000)\n",
    "\n",
    "### likelihood at each value in grid\n",
    "likelihood = ss.binom.pmf(6, 9, p=p_grid)\n",
    "\n",
    "### compute product of likelihood and prior\n",
    "unstd_posterior = likelihood * prior\n",
    "\n",
    "### standardize posterior\n",
    "posterior = unstd_posterior / sum(unstd_posterior)\n",
    "\n",
    "### draw samples\n",
    "samples = np.random.choice(a = p_grid, replace=True, p=posterior, size=10000)"
   ]
  },
  {
   "cell_type": "code",
   "execution_count": 151,
   "metadata": {},
   "outputs": [
    {
     "data": {
      "image/png": "[encoded data removed]",
      "text/plain": [
       "<Figure size 432x288 with 1 Axes>"
      ]
     },
     "metadata": {
      "needs_background": "light"
     },
     "output_type": "display_data"
    }
   ],
   "source": [
    "# here was passed in samples from posterior as probability\n",
    "w = np.random.binomial(n=9, p=samples, size=10000)\n",
    "plt.hist(w, bins=50, density=True);"
   ]
  },
  {
   "cell_type": "markdown",
   "metadata": {},
   "source": [
    "### Questions\n"
   ]
  },
  {
   "cell_type": "code",
   "execution_count": 121,
   "metadata": {},
   "outputs": [
    {
     "data": {
      "text/plain": [
       "0.001"
      ]
     },
     "execution_count": 121,
     "metadata": {},
     "output_type": "execute_result"
    }
   ],
   "source": [
    "### define grid - potentially prob for p\n",
    "p_grid = np.linspace(0, 1, 1000)\n",
    "### define prior \n",
    "prior = np.repeat(1, 1000)\n",
    "### likelihood at each value in grid\n",
    "likelihood = ss.binom.pmf(6, 9, p=p_grid)\n",
    "### compute product of likelihood and prior\n",
    "unstd_posterior = likelihood * prior\n",
    "### standardize posterior\n",
    "posterior = unstd_posterior / sum(unstd_posterior)\n",
    "### draw samples\n",
    "samples = np.random.choice(a = p_grid, replace=True, p=posterior, size=10000)\n",
    "\n",
    "# how much posterior prob lies below p=0.2 (intervals of defined boundaries)\n",
    "np.sum(samples < 0.2) / len(samples)"
   ]
  },
  {
   "cell_type": "code",
   "execution_count": 124,
   "metadata": {},
   "outputs": [
    {
     "data": {
      "text/plain": [
       "0.1132"
      ]
     },
     "execution_count": 124,
     "metadata": {},
     "output_type": "execute_result"
    }
   ],
   "source": [
    "# how much posterior prob lies above 0.8 (intervals of defined boundaries)\n",
    "np.sum(samples > 0.8) / len(samples)"
   ]
  },
  {
   "cell_type": "code",
   "execution_count": 125,
   "metadata": {},
   "outputs": [
    {
     "data": {
      "text/plain": [
       "0.8858"
      ]
     },
     "execution_count": 125,
     "metadata": {},
     "output_type": "execute_result"
    }
   ],
   "source": [
    "# how much posterior prob lies between p=0.2 and p=0.8 (intervals of defined boundaries)\n",
    "np.sum((samples > 0.2) & (samples < 0.8)) / len(samples)"
   ]
  },
  {
   "cell_type": "code",
   "execution_count": 126,
   "metadata": {},
   "outputs": [
    {
     "data": {
      "text/plain": [
       "0.5095095095095095"
      ]
     },
     "execution_count": 126,
     "metadata": {},
     "output_type": "execute_result"
    }
   ],
   "source": [
    "# 20% of posterior probability lies below which value of p? (intervals of defined mass)\n",
    "np.quantile(samples, 0.2)"
   ]
  },
  {
   "cell_type": "code",
   "execution_count": 127,
   "metadata": {},
   "outputs": [
    {
     "data": {
      "text/plain": [
       "0.7567567567567568"
      ]
     },
     "execution_count": 127,
     "metadata": {},
     "output_type": "execute_result"
    }
   ],
   "source": [
    "# 20% of posterior probability lies above which value of p? (intervals of defined mass)\n",
    "np.quantile(samples, 0.8)"
   ]
  },
  {
   "cell_type": "code",
   "execution_count": 128,
   "metadata": {},
   "outputs": [
    {
     "data": {
      "text/plain": [
       "array([0.5005005 , 0.77577578])"
      ]
     },
     "execution_count": 128,
     "metadata": {},
     "output_type": "execute_result"
    }
   ],
   "source": [
    "# which value of p contains the narrowest interval equal to 66% of posterior probability (HDPI)\n",
    "pymc3.stats.hpd(samples, 0.66)"
   ]
  },
  {
   "cell_type": "code",
   "execution_count": 132,
   "metadata": {},
   "outputs": [
    {
     "data": {
      "text/plain": [
       "array([0.48948949, 0.77277277])"
      ]
     },
     "execution_count": 132,
     "metadata": {},
     "output_type": "execute_result"
    }
   ],
   "source": [
    "# which values of p contain 66% of prob distribution assuming equal posterior prob below and above interval\n",
    "np.quantile(samples, (0.165, 0.835))"
   ]
  },
  {
   "cell_type": "code",
   "execution_count": 158,
   "metadata": {},
   "outputs": [],
   "source": [
    "# 8 water in 15 tosses, constrcut posterior distribution using grid approximation and flat prior\n",
    "\n",
    "### define grid - potentially prob for p\n",
    "p_grid = np.linspace(0, 1, 1000)\n",
    "### define prior \n",
    "prior = np.repeat(1, 1000)\n",
    "### likelihood at each value in grid\n",
    "likelihood = ss.binom.pmf(6, 9, p=p_grid)\n",
    "### compute product of likelihood and prior\n",
    "unstd_posterior = likelihood * prior\n",
    "### standardize posterior\n",
    "posterior = unstd_posterior / sum(unstd_posterior)\n",
    "### draw samples\n",
    "samples = np.random.choice(a = p_grid, replace=True, p=posterior, size=10000)"
   ]
  },
  {
   "cell_type": "code",
   "execution_count": 159,
   "metadata": {},
   "outputs": [
    {
     "data": {
      "text/plain": [
       "[<matplotlib.lines.Line2D at 0x2335b779ec8>]"
      ]
     },
     "execution_count": 159,
     "metadata": {},
     "output_type": "execute_result"
    },
    {
     "data": {
      "image/png": "[encoded data removed]",
      "text/plain": [
       "<Figure size 432x288 with 1 Axes>"
      ]
     },
     "metadata": {
      "needs_background": "light"
     },
     "output_type": "display_data"
    }
   ],
   "source": [
    "plt.plot(posterior)"
   ]
  },
  {
   "cell_type": "code",
   "execution_count": 160,
   "metadata": {},
   "outputs": [
    {
     "data": {
      "text/plain": [
       "Text(0.5, 0, 'proportion of water (p)')"
      ]
     },
     "execution_count": 160,
     "metadata": {},
     "output_type": "execute_result"
    },
    {
     "data": {
      "image/png": "[encoded data removed]",
      "text/plain": [
       "<Figure size 432x288 with 1 Axes>"
      ]
     },
     "metadata": {
      "needs_background": "light"
     },
     "output_type": "display_data"
    }
   ],
   "source": [
    "plt.hist(samples, density=True, bins=50)\n",
    "plt.xlabel('proportion of water (p)')"
   ]
  },
  {
   "cell_type": "code",
   "execution_count": 161,
   "metadata": {},
   "outputs": [
    {
     "data": {
      "text/plain": [
       "array([0.42042042, 0.87287287])"
      ]
     },
     "execution_count": 161,
     "metadata": {},
     "output_type": "execute_result"
    }
   ],
   "source": [
    "### Draw 10,000 samples, - calculate 90% HPDI for p\n",
    "pymc3.stats.hpd(samples, 0.9)"
   ]
  },
  {
   "cell_type": "code",
   "execution_count": 162,
   "metadata": {},
   "outputs": [
    {
     "data": {
      "image/png": "[encoded data removed]",
      "text/plain": [
       "<Figure size 432x288 with 1 Axes>"
      ]
     },
     "metadata": {
      "needs_background": "light"
     },
     "output_type": "display_data"
    }
   ],
   "source": [
    "# Construct posterior predictive check\n",
    "w = np.random.binomial(n=15, p=samples, size=10000)\n",
    "plt.hist(w, bins=50, density=True);"
   ]
  },
  {
   "cell_type": "code",
   "execution_count": 163,
   "metadata": {},
   "outputs": [
    {
     "name": "stdout",
     "output_type": "stream",
     "text": [
      "9 = 0.1297\n",
      "13 = 0.084\n",
      "10 = 0.1367\n",
      "12 = 0.1107\n",
      "6 = 0.0573\n",
      "11 = 0.1306\n",
      "8 = 0.1126\n",
      "14 = 0.0504\n",
      "7 = 0.0857\n",
      "4 = 0.0244\n",
      "15 = 0.0181\n",
      "2 = 0.0053\n",
      "5 = 0.0424\n",
      "3 = 0.0103\n",
      "1 = 0.0015\n",
      "0 = 0.0003\n"
     ]
    }
   ],
   "source": [
    "counter = Counter()\n",
    "for x in w:\n",
    "    counter[x] +=1\n",
    "\n",
    "for k, v in counter.items():\n",
    "    print(f'{k} = {np.round(v/10000, 4)}')"
   ]
  },
  {
   "cell_type": "markdown",
   "metadata": {},
   "source": [
    "probability of observing 8 water in 15 tosses is ~12%"
   ]
  },
  {
   "cell_type": "code",
   "execution_count": 164,
   "metadata": {},
   "outputs": [
    {
     "name": "stdout",
     "output_type": "stream",
     "text": [
      "9 = 0.0538\n",
      "7 = 0.1888\n",
      "8 = 0.1284\n",
      "6 = 0.2005\n",
      "5 = 0.1757\n",
      "3 = 0.0734\n",
      "4 = 0.1269\n",
      "2 = 0.0369\n",
      "1 = 0.013\n",
      "0 = 0.0026\n"
     ]
    }
   ],
   "source": [
    "### now after getting 8/15 what is prob of seeing 6/9\n",
    "w = np.random.binomial(n=9, p=samples, size=10000)\n",
    "counter = Counter()\n",
    "for x in w:\n",
    "    counter[x] +=1\n",
    "\n",
    "for k, v in counter.items():\n",
    "    print(f'{k} = {np.round(v/10000, 4)}')"
   ]
  },
  {
   "cell_type": "code",
   "execution_count": 165,
   "metadata": {},
   "outputs": [],
   "source": [
    "### repeat but now use better prior"
   ]
  },
  {
   "cell_type": "code",
   "execution_count": 166,
   "metadata": {},
   "outputs": [],
   "source": [
    "### define grid - potentially prob for p\n",
    "p_grid = np.linspace(0, 1, 1000)\n",
    "### define prior \n",
    "prior = np.repeat(1, 1000)\n",
    "prior = [0 if x < 0.5 else 1 for x in p_grid]\n",
    "### likelihood at each value in grid\n",
    "likelihood = ss.binom.pmf(8, 15, p=p_grid)\n",
    "### compute product of likelihood and prior\n",
    "unstd_posterior = likelihood * prior\n",
    "### standardize posterior\n",
    "posterior = unstd_posterior / sum(unstd_posterior)\n",
    "### draw samples\n",
    "samples = np.random.choice(a = p_grid, replace=True, p=posterior, size=10000)"
   ]
  },
  {
   "cell_type": "code",
   "execution_count": 167,
   "metadata": {},
   "outputs": [
    {
     "data": {
      "text/plain": [
       "[<matplotlib.lines.Line2D at 0x2335c89f988>]"
      ]
     },
     "execution_count": 167,
     "metadata": {},
     "output_type": "execute_result"
    },
    {
     "data": {
      "image/png": "[encoded data removed]",
      "text/plain": [
       "<Figure size 432x288 with 1 Axes>"
      ]
     },
     "metadata": {
      "needs_background": "light"
     },
     "output_type": "display_data"
    }
   ],
   "source": [
    "plt.plot(posterior)"
   ]
  },
  {
   "cell_type": "code",
   "execution_count": 168,
   "metadata": {},
   "outputs": [
    {
     "data": {
      "text/plain": [
       "Text(0.5, 0, 'proportion of water (p)')"
      ]
     },
     "execution_count": 168,
     "metadata": {},
     "output_type": "execute_result"
    },
    {
     "data": {
      "image/png": "[encoded data removed]",
      "text/plain": [
       "<Figure size 432x288 with 1 Axes>"
      ]
     },
     "metadata": {
      "needs_background": "light"
     },
     "output_type": "display_data"
    }
   ],
   "source": [
    "plt.hist(samples, density=True, bins=50)\n",
    "plt.xlabel('proportion of water (p)')"
   ]
  },
  {
   "cell_type": "code",
   "execution_count": 169,
   "metadata": {},
   "outputs": [
    {
     "data": {
      "text/plain": [
       "array([0.5005005 , 0.71471471])"
      ]
     },
     "execution_count": 169,
     "metadata": {},
     "output_type": "execute_result"
    }
   ],
   "source": [
    "### Draw 10,000 samples, - calculate 90% HPDI for p\n",
    "pymc3.stats.hpd(samples, 0.9)"
   ]
  },
  {
   "cell_type": "code",
   "execution_count": 174,
   "metadata": {},
   "outputs": [
    {
     "data": {
      "image/png": "[encoded data removed]",
      "text/plain": [
       "<Figure size 432x288 with 1 Axes>"
      ]
     },
     "metadata": {
      "needs_background": "light"
     },
     "output_type": "display_data"
    }
   ],
   "source": [
    "# Construct posterior predictive check\n",
    "w = np.random.binomial(n=15, p=samples, size=10000)\n",
    "plt.hist(w, bins=50, density=True);"
   ]
  },
  {
   "cell_type": "code",
   "execution_count": 172,
   "metadata": {},
   "outputs": [
    {
     "name": "stdout",
     "output_type": "stream",
     "text": [
      "7 = 0.115\n",
      "9 = 0.18\n",
      "11 = 0.1273\n",
      "13 = 0.0395\n",
      "8 = 0.1506\n",
      "12 = 0.0842\n",
      "4 = 0.0118\n",
      "5 = 0.0357\n",
      "10 = 0.1696\n",
      "6 = 0.0652\n",
      "14 = 0.0149\n",
      "15 = 0.0032\n",
      "3 = 0.0025\n",
      "2 = 0.0004\n",
      "1 = 0.0001\n"
     ]
    }
   ],
   "source": [
    "w = np.random.binomial(n=15, p=samples, size=10000)\n",
    "counter = Counter()\n",
    "for x in w:\n",
    "    counter[x] +=1\n",
    "\n",
    "for k, v in counter.items():\n",
    "    print(f'{k} = {np.round(v/10000, 4)}')"
   ]
  },
  {
   "cell_type": "code",
   "execution_count": null,
   "metadata": {},
   "outputs": [],
   "source": []
  }
 ],
 "metadata": {
  "kernelspec": {
   "display_name": "Python 3",
   "language": "python",
   "name": "python3"
  },
  "language_info": {
   "codemirror_mode": {
    "name": "ipython",
    "version": 3
   },
   "file_extension": ".py",
   "mimetype": "text/x-python",
   "name": "python",
   "nbconvert_exporter": "python",
   "pygments_lexer": "ipython3",
   "version": "3.7.6"
  }
 },
 "nbformat": 4,
 "nbformat_minor": 4
}
