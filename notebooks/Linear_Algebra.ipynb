{
 "cells": [
  {
   "cell_type": "markdown",
   "metadata": {},
   "source": [
    "# Notebook for Linear Algebra Review"
   ]
  },
  {
   "cell_type": "code",
   "execution_count": 1,
   "metadata": {},
   "outputs": [],
   "source": [
    "import numpy as np\n",
    "import matplotlib.pyplot as plt"
   ]
  },
  {
   "cell_type": "markdown",
   "metadata": {},
   "source": [
    "### Vectors \n",
    "\n",
    "a *vector* is an array of real numbers."
   ]
  },
  {
   "cell_type": "code",
   "execution_count": 2,
   "metadata": {},
   "outputs": [
    {
     "data": {
      "text/plain": [
       "array([1, 2, 3, 4])"
      ]
     },
     "metadata": {},
     "output_type": "display_data"
    },
    {
     "data": {
      "text/plain": [
       "(4,)"
      ]
     },
     "metadata": {},
     "output_type": "display_data"
    }
   ],
   "source": [
    "x = np.array([1, 2, 3, 4])\n",
    "display(x)\n",
    "display(x.shape)"
   ]
  },
  {
   "cell_type": "code",
   "execution_count": 3,
   "metadata": {},
   "outputs": [
    {
     "data": {
      "text/plain": [
       "array([[1],\n",
       "       [2],\n",
       "       [3],\n",
       "       [4]])"
      ]
     },
     "metadata": {},
     "output_type": "display_data"
    },
    {
     "data": {
      "text/plain": [
       "(4, 1)"
      ]
     },
     "metadata": {},
     "output_type": "display_data"
    }
   ],
   "source": [
    "x2 = x.reshape(-1, 1)\n",
    "display(x2)\n",
    "display(x2.shape)"
   ]
  },
  {
   "cell_type": "code",
   "execution_count": 4,
   "metadata": {},
   "outputs": [
    {
     "data": {
      "text/plain": [
       "array([[1, 2, 3, 4]])"
      ]
     },
     "metadata": {},
     "output_type": "display_data"
    },
    {
     "data": {
      "text/plain": [
       "(1, 4)"
      ]
     },
     "metadata": {},
     "output_type": "display_data"
    }
   ],
   "source": [
    "display(x2.T)\n",
    "display(x2.T.shape)"
   ]
  },
  {
   "cell_type": "code",
   "execution_count": 5,
   "metadata": {},
   "outputs": [
    {
     "name": "stderr",
     "output_type": "stream",
     "text": [
      "/Users/david/anaconda3/lib/python3.6/site-packages/matplotlib/axes/_base.py:1334: MatplotlibDeprecationWarning: \n",
      "box-forced\n",
      "  \"2.2\", \"box-forced\", obj_type=\"keyword argument\")\n"
     ]
    },
    {
     "data": {
      "image/png": "[encoded data removed]",
      "text/plain": [
       "<Figure size 432x288 with 1 Axes>"
      ]
     },
     "metadata": {},
     "output_type": "display_data"
    }
   ],
   "source": [
    "fig, ax = plt.subplots()\n",
    "\n",
    "def plot_arrow_from_origin(ax, x, color=\"black\"):\n",
    "    xlim = ax.get_xlim()\n",
    "    new_xlim = [0, 0]\n",
    "    new_xlim[0] = np.min([xlim[0], x[0] - 0.5])\n",
    "    new_xlim[1] = np.max([xlim[1], x[0] + 0.5])\n",
    "    ax.set_xlim(new_xlim)\n",
    "    ylim = ax.get_ylim()\n",
    "    new_ylim = [0, 0]\n",
    "    new_ylim[0] = np.min([ylim[0], x[1] - 0.5])\n",
    "    new_ylim[1] = np.max([ylim[1], x[1] + 0.5])\n",
    "    ax.set_ylim(new_ylim)\n",
    "    ax.set(adjustable='box-forced', aspect='equal')\n",
    "    ax.arrow(0, 0, x[0], x[1],\n",
    "             head_width=0.1, linewidth=3, head_length=0.2,\n",
    "             fc=color, ec=color)\n",
    "    \n",
    "plot_arrow_from_origin(ax, (1, 1))\n",
    "plot_arrow_from_origin(ax, (0.5, -1))\n",
    "plot_arrow_from_origin(ax, (-1, 0.75))"
   ]
  },
  {
   "cell_type": "markdown",
   "metadata": {},
   "source": [
    "### Adding and multipling a vector\n",
    "\n",
    "*adding*: a constant is added to each element in the vector\n",
    "\n",
    "*multiplication*: a constant is multipled by each elemnt in the vector"
   ]
  },
  {
   "cell_type": "code",
   "execution_count": 6,
   "metadata": {},
   "outputs": [
    {
     "name": "stdout",
     "output_type": "stream",
     "text": [
      "Addition\n"
     ]
    },
    {
     "data": {
      "text/plain": [
       "array([1, 2, 3, 4])"
      ]
     },
     "metadata": {},
     "output_type": "display_data"
    },
    {
     "data": {
      "text/plain": [
       "array([5, 6, 7, 8])"
      ]
     },
     "metadata": {},
     "output_type": "display_data"
    },
    {
     "name": "stdout",
     "output_type": "stream",
     "text": [
      "\n",
      "\n",
      "Multiplication\n"
     ]
    },
    {
     "data": {
      "text/plain": [
       "array([1, 2, 3, 4])"
      ]
     },
     "metadata": {},
     "output_type": "display_data"
    },
    {
     "data": {
      "text/plain": [
       "array([ 4,  8, 12, 16])"
      ]
     },
     "metadata": {},
     "output_type": "display_data"
    }
   ],
   "source": [
    "# addition\n",
    "a = 4\n",
    "print('Addition')\n",
    "display(x)\n",
    "display(x + 4)\n",
    "\n",
    "# multiplication\n",
    "print('\\n')\n",
    "print('Multiplication')\n",
    "display(x)\n",
    "display(x * 4)"
   ]
  },
  {
   "cell_type": "markdown",
   "metadata": {},
   "source": [
    "The **norm** or **length of a vector** $\\mathbf{x}$ is defined by using the pythagorean theorem\n",
    "\n",
    "$$||\\boldsymbol{x}|| = \\sqrt{x_1^2 + x_2^2 + \\cdots + x_n^2}$$\n",
    "\n",
    "And a **unit vector** is one for which\n",
    "\n",
    "$$||\\boldsymbol{x}|| = 1 $$\n",
    "\n",
    "\n",
    "The **norm** is the positive length of a vector (calculated from the origin) "
   ]
  },
  {
   "cell_type": "code",
   "execution_count": 7,
   "metadata": {},
   "outputs": [
    {
     "name": "stdout",
     "output_type": "stream",
     "text": [
      "[1 2 3 4]\n",
      "[ 1  4  9 16]\n",
      "5.477225575051661\n",
      "5.477225575051661\n"
     ]
    }
   ],
   "source": [
    "print(x)\n",
    "print(x**2)\n",
    "print(np.sqrt(np.sum(x**2)))\n",
    "print(np.linalg.norm(x))"
   ]
  },
  {
   "cell_type": "code",
   "execution_count": 8,
   "metadata": {},
   "outputs": [
    {
     "name": "stdout",
     "output_type": "stream",
     "text": [
      "(2,)\n",
      "[1 1]\n",
      "1.4142135623730951\n"
     ]
    }
   ],
   "source": [
    "x3 = np.array([1, 1])\n",
    "print(x3.shape)\n",
    "print(x3)\n",
    "print(np.linalg.norm(x3))"
   ]
  },
  {
   "cell_type": "code",
   "execution_count": 9,
   "metadata": {},
   "outputs": [
    {
     "data": {
      "text/plain": [
       "1.4142135623730951"
      ]
     },
     "execution_count": 9,
     "metadata": {},
     "output_type": "execute_result"
    }
   ],
   "source": [
    "# a**2 + b**2 = c**2\n",
    "c2 = 1**2 + 1**2\n",
    "c = np.sqrt(c2)\n",
    "c"
   ]
  },
  {
   "cell_type": "markdown",
   "metadata": {},
   "source": [
    "### Dot Products and Angles Between Vectors\n",
    "\n",
    "If we have two vectors $\\boldsymbol{x}$ and $\\boldsymbol{y}$ of the same length $(n)$, then the _dot product_ is given by\n",
    "\n",
    "$$\\boldsymbol{x} \\cdot \\boldsymbol{y} = x_1y_1 + x_2y_2 + \\cdots + x_ny_n$$"
   ]
  },
  {
   "cell_type": "code",
   "execution_count": 10,
   "metadata": {},
   "outputs": [
    {
     "name": "stdout",
     "output_type": "stream",
     "text": [
      "[1 2 3 4]\n",
      "[4 3 2 1]\n"
     ]
    },
    {
     "data": {
      "text/plain": [
       "20"
      ]
     },
     "execution_count": 10,
     "metadata": {},
     "output_type": "execute_result"
    }
   ],
   "source": [
    "y = np.array([4, 3, 2, 1])\n",
    "print(x)\n",
    "print(y)\n",
    "np.dot(x, y)"
   ]
  },
  {
   "cell_type": "code",
   "execution_count": 11,
   "metadata": {},
   "outputs": [
    {
     "name": "stdout",
     "output_type": "stream",
     "text": [
      "(4,)\n",
      "(4,)\n"
     ]
    },
    {
     "data": {
      "text/plain": [
       "20"
      ]
     },
     "execution_count": 11,
     "metadata": {},
     "output_type": "execute_result"
    }
   ],
   "source": [
    "print(x.shape)\n",
    "print(y.shape)\n",
    "(4*1) + (2*3) + (3*2) + (4*1)"
   ]
  },
  {
   "cell_type": "markdown",
   "metadata": {},
   "source": [
    "The **cosine of the angle between the two vectors** can be computed by the following formula:\n",
    "\n",
    "$$cos(\\theta) = \\frac{\\boldsymbol{x} \\cdot \\boldsymbol{y}}{||\\boldsymbol{x}|| \\text{ } ||\\boldsymbol{y}||}$$"
   ]
  },
  {
   "cell_type": "code",
   "execution_count": 12,
   "metadata": {},
   "outputs": [
    {
     "data": {
      "text/plain": [
       "0.9688639316269662"
      ]
     },
     "execution_count": 12,
     "metadata": {},
     "output_type": "execute_result"
    }
   ],
   "source": [
    "y = np.array([5, 6, 7, 8])\n",
    "np.dot(x, y) / (np.linalg.norm(x) * np.linalg.norm(y))"
   ]
  },
  {
   "cell_type": "code",
   "execution_count": 13,
   "metadata": {},
   "outputs": [
    {
     "name": "stdout",
     "output_type": "stream",
     "text": [
      "70\n",
      "5.477225575051661\n",
      "13.19090595827292\n"
     ]
    }
   ],
   "source": [
    "print(np.dot(x, y))\n",
    "print(np.linalg.norm(x))\n",
    "print(np.linalg.norm(y))"
   ]
  },
  {
   "cell_type": "code",
   "execution_count": 14,
   "metadata": {},
   "outputs": [
    {
     "name": "stderr",
     "output_type": "stream",
     "text": [
      "/Users/david/anaconda3/lib/python3.6/site-packages/matplotlib/axes/_base.py:1334: MatplotlibDeprecationWarning: \n",
      "box-forced\n",
      "  \"2.2\", \"box-forced\", obj_type=\"keyword argument\")\n"
     ]
    },
    {
     "data": {
      "image/png": "[encoded data removed]",
      "text/plain": [
       "<Figure size 864x288 with 2 Axes>"
      ]
     },
     "metadata": {},
     "output_type": "display_data"
    }
   ],
   "source": [
    "def unit_vector_from_angle(angle):\n",
    "    return np.array([np.cos(angle), np.sin(angle)])\n",
    "\n",
    "fig, axs = plt.subplots(1, 2, figsize=(12, 4))\n",
    "\n",
    "angles = np.linspace(0, 2*np.pi, num=16)\n",
    "for angle in angles:\n",
    "    plot_arrow_from_origin(axs[0], unit_vector_from_angle(angle))\n",
    "axs[0].set_title(\"Unit Vectors\")\n",
    "    \n",
    "scales = np.linspace(0.2, 2, num=16)\n",
    "for angle, scale in zip(angles, scales):\n",
    "    plot_arrow_from_origin(axs[1], scale*unit_vector_from_angle(angle))\n",
    "axs[1].set_title(\"Vectors of Increasing Length\");"
   ]
  },
  {
   "cell_type": "code",
   "execution_count": 15,
   "metadata": {},
   "outputs": [
    {
     "name": "stderr",
     "output_type": "stream",
     "text": [
      "/Users/david/anaconda3/lib/python3.6/site-packages/matplotlib/axes/_base.py:1334: MatplotlibDeprecationWarning: \n",
      "box-forced\n",
      "  \"2.2\", \"box-forced\", obj_type=\"keyword argument\")\n"
     ]
    },
    {
     "data": {
      "image/png": "[encoded data removed]",
      "text/plain": [
       "<Figure size 864x576 with 9 Axes>"
      ]
     },
     "metadata": {},
     "output_type": "display_data"
    }
   ],
   "source": [
    "fig, axs = plt.subplots(3, 3, figsize=(12, 8))\n",
    "\n",
    "angles = np.linspace(0, 2*np.pi, num=11)\n",
    "for ax, angle in zip(axs.flatten(), angles[1:-1]):\n",
    "    v = unit_vector_from_angle(angle)\n",
    "    plot_arrow_from_origin(ax, v)\n",
    "    ax.set_xlim((-2, 2)); ax.set_ylim(-1.5, 1.5)\n",
    "    plot_arrow_from_origin(ax, (1, 0), color=\"green\")\n",
    "    \n",
    "    dot_prod = np.dot((1, 0), v)\n",
    "    ax.set_title(\"Dot Product: {:2.2f}\".format(dot_prod))\n",
    "    \n",
    "plt.tight_layout()"
   ]
  },
  {
   "cell_type": "markdown",
   "metadata": {},
   "source": [
    "If $\\boldsymbol{x} \\cdot \\boldsymbol{y} = 0$ then $\\boldsymbol{x}$ and $\\boldsymbol{y}$ are *orthogonal* (aligns with the intuitive notion of perpendicular)"
   ]
  },
  {
   "cell_type": "code",
   "execution_count": 16,
   "metadata": {},
   "outputs": [
    {
     "data": {
      "text/plain": [
       "0"
      ]
     },
     "execution_count": 16,
     "metadata": {},
     "output_type": "execute_result"
    }
   ],
   "source": [
    "w = np.array([1, 2])\n",
    "v = np.array([-2, 1])\n",
    "np.dot(w, v)"
   ]
  },
  {
   "cell_type": "code",
   "execution_count": 17,
   "metadata": {},
   "outputs": [
    {
     "name": "stderr",
     "output_type": "stream",
     "text": [
      "/Users/david/anaconda3/lib/python3.6/site-packages/matplotlib/axes/_base.py:1334: MatplotlibDeprecationWarning: \n",
      "box-forced\n",
      "  \"2.2\", \"box-forced\", obj_type=\"keyword argument\")\n"
     ]
    },
    {
     "data": {
      "image/png": "[encoded data removed]",
      "text/plain": [
       "<Figure size 432x288 with 1 Axes>"
      ]
     },
     "metadata": {},
     "output_type": "display_data"
    }
   ],
   "source": [
    "fig, ax = plt.subplots()\n",
    "\n",
    "plot_arrow_from_origin(ax, (1, 2))\n",
    "plot_arrow_from_origin(ax, (-2, 1))"
   ]
  },
  {
   "cell_type": "markdown",
   "metadata": {},
   "source": [
    "The square of the norm of a vector is just the vector dot product with itself\n",
    "$$\n",
    "||\\boldsymbol{x}||^2 = \\boldsymbol{x} \\cdot \\boldsymbol{x}\n",
    "$$"
   ]
  },
  {
   "cell_type": "code",
   "execution_count": 18,
   "metadata": {},
   "outputs": [
    {
     "name": "stdout",
     "output_type": "stream",
     "text": [
      "30.0\n",
      "30\n"
     ]
    }
   ],
   "source": [
    "print(np.linalg.norm(x)**2)\n",
    "print(np.dot(x, x))"
   ]
  },
  {
   "cell_type": "markdown",
   "metadata": {},
   "source": [
    "The **distance between two vectors** is the norm of the difference.\n",
    "\n",
    "$$\n",
    "d(\\boldsymbol{x},\\boldsymbol{y}) = ||\\boldsymbol{x}-\\boldsymbol{y}||\n",
    "$$"
   ]
  },
  {
   "cell_type": "code",
   "execution_count": 19,
   "metadata": {},
   "outputs": [
    {
     "name": "stdout",
     "output_type": "stream",
     "text": [
      "[1 2 3 4]\n",
      "[5 6 7 8]\n"
     ]
    }
   ],
   "source": [
    "print(x)\n",
    "print(y)"
   ]
  },
  {
   "cell_type": "code",
   "execution_count": 20,
   "metadata": {},
   "outputs": [
    {
     "data": {
      "text/plain": [
       "8.0"
      ]
     },
     "execution_count": 20,
     "metadata": {},
     "output_type": "execute_result"
    }
   ],
   "source": [
    "np.linalg.norm(x - y)"
   ]
  },
  {
   "cell_type": "code",
   "execution_count": 21,
   "metadata": {},
   "outputs": [
    {
     "name": "stdout",
     "output_type": "stream",
     "text": [
      "[-4 -4 -4 -4]\n"
     ]
    },
    {
     "data": {
      "text/plain": [
       "8.0"
      ]
     },
     "execution_count": 21,
     "metadata": {},
     "output_type": "execute_result"
    }
   ],
   "source": [
    "print(x - y)\n",
    "np.linalg.norm(x - y)"
   ]
  },
  {
   "cell_type": "markdown",
   "metadata": {},
   "source": [
    "The arrays need to be the same shape? (**FIGURE THIS OUT**)"
   ]
  },
  {
   "cell_type": "code",
   "execution_count": 22,
   "metadata": {},
   "outputs": [],
   "source": [
    "x2 = np.array([10, 20, 3]).reshape(-1, 1)\n",
    "y2 = np.array([1, 2, 3, 4]).reshape(-1, 1)"
   ]
  },
  {
   "cell_type": "code",
   "execution_count": 23,
   "metadata": {},
   "outputs": [
    {
     "ename": "ValueError",
     "evalue": "operands could not be broadcast together with shapes (3,1) (4,1) ",
     "output_type": "error",
     "traceback": [
      "\u001b[0;31m---------------------------------------------------------------------------\u001b[0m",
      "\u001b[0;31mValueError\u001b[0m                                Traceback (most recent call last)",
      "\u001b[0;32m<ipython-input-23-f4173bd351a8>\u001b[0m in \u001b[0;36m<module>\u001b[0;34m()\u001b[0m\n\u001b[0;32m----> 1\u001b[0;31m \u001b[0mnp\u001b[0m\u001b[0;34m.\u001b[0m\u001b[0mlinalg\u001b[0m\u001b[0;34m.\u001b[0m\u001b[0mnorm\u001b[0m\u001b[0;34m(\u001b[0m\u001b[0mx2\u001b[0m \u001b[0;34m-\u001b[0m \u001b[0my2\u001b[0m\u001b[0;34m)\u001b[0m\u001b[0;34m\u001b[0m\u001b[0;34m\u001b[0m\u001b[0m\n\u001b[0m",
      "\u001b[0;31mValueError\u001b[0m: operands could not be broadcast together with shapes (3,1) (4,1) "
     ]
    }
   ],
   "source": [
    "np.linalg.norm(x2 - y2)"
   ]
  },
  {
   "cell_type": "markdown",
   "metadata": {},
   "source": [
    "### Linear Combination of Vectors\n",
    "\n",
    "If we have two vectors $\\boldsymbol{x}$ and $\\boldsymbol{y}$ of the same length $(n)$, then\n",
    "\n",
    "$$\\boldsymbol{x} + \\boldsymbol{y} = [x_1+y_1, x_2+y_2, \\ldots, x_n+y_n]$$"
   ]
  },
  {
   "cell_type": "code",
   "execution_count": 24,
   "metadata": {},
   "outputs": [
    {
     "name": "stdout",
     "output_type": "stream",
     "text": [
      "[ 6  8 10 12]\n"
     ]
    }
   ],
   "source": [
    "x = np.array([1, 2, 3, 4])\n",
    "y = np.array([5, 6, 7, 8])\n",
    "print(x + y)"
   ]
  },
  {
   "cell_type": "markdown",
   "metadata": {},
   "source": [
    "Geometrically, this adds vectors with the **parallelogram rule**:\n",
    "\n",
    "![](parallelogram.gif)"
   ]
  },
  {
   "cell_type": "markdown",
   "metadata": {},
   "source": [
    "A **linear combination** of a collection of vectors $(\\boldsymbol{x}_1,\n",
    "                                                    \\boldsymbol{x}_2, \\ldots,\n",
    "                                                    \\boldsymbol{x}_m)$ \n",
    "is a vector of the form\n",
    "\n",
    "$$a_1 \\cdot \\boldsymbol{x}_1 + a_2 \\cdot \\boldsymbol{x}_2 + \n",
    "\\cdots + a_m \\cdot \\boldsymbol{x}_m$$\n",
    "\n",
    "That is, **a linear combination is formed out of a collection of vectors by multiplying them by various constants, and then adding the results.**"
   ]
  },
  {
   "cell_type": "code",
   "execution_count": 27,
   "metadata": {},
   "outputs": [
    {
     "name": "stdout",
     "output_type": "stream",
     "text": [
      "x1: [1 2 3 4]\n",
      "a1*x1 = [2 4 6 8]\n",
      "x2: [5 6 7 8]\n",
      "a2*x2 = [20 24 28 32]\n",
      "a1*x1 + a2*x2 = [22 28 34 40]\n"
     ]
    }
   ],
   "source": [
    "a1=2\n",
    "x1 = np.array([1, 2, 3, 4])\n",
    "print(f'x1: {x1}')\n",
    "print(\"a1*x1 = {}\".format(a1*x1))\n",
    "a2=4\n",
    "x2 = np.array([5, 6, 7, 8])\n",
    "print(f'x2: {x2}')\n",
    "print(\"a2*x2 = {}\".format(a2*x2))\n",
    "print(\"a1*x1 + a2*x2 = {}\".format(a1*x1 + a2*x2))"
   ]
  },
  {
   "cell_type": "code",
   "execution_count": 30,
   "metadata": {},
   "outputs": [
    {
     "data": {
      "text/plain": [
       "array([2, 4, 6, 8])"
      ]
     },
     "metadata": {},
     "output_type": "display_data"
    },
    {
     "data": {
      "text/plain": [
       "array([20, 24, 28, 32])"
      ]
     },
     "metadata": {},
     "output_type": "display_data"
    },
    {
     "data": {
      "text/plain": [
       "array([22, 28, 34, 40])"
      ]
     },
     "metadata": {},
     "output_type": "display_data"
    }
   ],
   "source": [
    "display(a1 * x1)\n",
    "display(a2 * x2)\n",
    "display(a1 * x1 + a2 * x2)"
   ]
  },
  {
   "cell_type": "markdown",
   "metadata": {},
   "source": [
    "Geometrically, all the linear combinations of a collection of vectors trace out the **plane spanned by those vectors.**\n",
    "\n",
    "![](vectors.png)"
   ]
  },
  {
   "cell_type": "markdown",
   "metadata": {},
   "source": [
    "# Matrices\n",
    "\n",
    "An **$n \\times p$ matrix** is an array of numbers with $n$ rows and $p$ columns:\n",
    "\n",
    "$$\n",
    "X =\n",
    "  \\begin{bmatrix}\n",
    "    x_{11} & x_{12} & \\cdots & x_{1p} \\\\\n",
    "    x_{21} & x_{22} & \\cdots & x_{2p} \\\\\n",
    "    \\vdots & \\vdots & \\ddots & \\vdots \\\\\n",
    "    x_{n1} & x_{n2} & \\cdots & x_{np} \n",
    "  \\end{bmatrix}\n",
    "$$\n",
    "\n",
    "Often in data science, matricies are used as a low level representation of a data set.  In this context:\n",
    "\n",
    "- $n$ = number of rows = the number of observations  \n",
    "- $p$ = number of columns = the number of features"
   ]
  },
  {
   "cell_type": "code",
   "execution_count": 31,
   "metadata": {},
   "outputs": [
    {
     "name": "stdout",
     "output_type": "stream",
     "text": [
      "[[1 2 3]\n",
      " [4 5 6]]\n"
     ]
    }
   ],
   "source": [
    "L = [[1, 2, 3], [4, 5, 6]]\n",
    "X = np.array(L)\n",
    "print(X)"
   ]
  },
  {
   "cell_type": "markdown",
   "metadata": {},
   "source": [
    "The shape tells us the number of rows and columns."
   ]
  },
  {
   "cell_type": "code",
   "execution_count": 32,
   "metadata": {},
   "outputs": [
    {
     "data": {
      "text/plain": [
       "(2, 3)"
      ]
     },
     "execution_count": 32,
     "metadata": {},
     "output_type": "execute_result"
    }
   ],
   "source": [
    "X.shape"
   ]
  },
  {
   "cell_type": "markdown",
   "metadata": {},
   "source": [
    "### Basic Arithmetic\n",
    "\n",
    "\n",
    "Let $X$ and $Y$ be matrices **of shape $n \\times p$** (i.e. of **the same shape**).\n",
    "\n",
    "We often use $x_{ij}$ $y_{ij}$ for $i=1, 2, \\ldots, n$ and $j=1, 2, \\ldots, p$ denote the entries of the matrix.\n",
    "\n",
    "1. $X+Y$ is the matrix whose $(i,j)^{th}$ entry is $x_{ij} + y_{ij}$.  That is, the **matrix created by adding entry-by-entry**.\n",
    "2. $X-Y$ is the matrix whose $(i,j)^{th}$ entry is $x_{ij} - y_{ij}$ That is, the **matrix created by subtracting entry-by-entry**.\n",
    "3. $aX$, where $a$ is any real number, is the matrix whose $(i,j)^{th}$ entry is $ax_{ij}$. That is, the **matrix created by multiplying every entry by $a$**."
   ]
  },
  {
   "cell_type": "code",
   "execution_count": 33,
   "metadata": {},
   "outputs": [
    {
     "name": "stdout",
     "output_type": "stream",
     "text": [
      "X = \n",
      "[[1 2 3]\n",
      " [4 5 6]]\n",
      "\n",
      "Y = \n",
      "[[ 7  8  9]\n",
      " [10 11 12]]\n",
      "\n",
      "X + Y = \n",
      "[[ 8 10 12]\n",
      " [14 16 18]]\n"
     ]
    }
   ],
   "source": [
    "# addition\n",
    "X = np.array([[1, 2, 3], [4, 5, 6]])\n",
    "print(\"X = \\n{}\".format(X))\n",
    "print()\n",
    "\n",
    "Y = np.array([[7, 8, 9], [10, 11, 12]])\n",
    "print(\"Y = \\n{}\".format(Y))\n",
    "print()\n",
    "\n",
    "print(\"X + Y = \\n{}\".format(X + Y))"
   ]
  },
  {
   "cell_type": "code",
   "execution_count": 34,
   "metadata": {},
   "outputs": [
    {
     "name": "stdout",
     "output_type": "stream",
     "text": [
      "X = \n",
      "[[1 2 3]\n",
      " [4 5 6]]\n",
      "\n",
      "Y = \n",
      "[[ 7  8  9]\n",
      " [10 11 12]]\n",
      "\n",
      "X - Y = \n",
      "[[-6 -6 -6]\n",
      " [-6 -6 -6]]\n"
     ]
    }
   ],
   "source": [
    "# subtraction\n",
    "X = np.array([[1, 2, 3], [4, 5, 6]])\n",
    "print(\"X = \\n{}\".format(X))\n",
    "print()\n",
    "\n",
    "Y = np.array([[7, 8, 9], [10, 11, 12]])\n",
    "print(\"Y = \\n{}\".format(Y))\n",
    "print()\n",
    "\n",
    "print(\"X - Y = \\n{}\".format(X - Y))"
   ]
  },
  {
   "cell_type": "markdown",
   "metadata": {},
   "source": [
    "### Multiplication"
   ]
  },
  {
   "cell_type": "code",
   "execution_count": 38,
   "metadata": {},
   "outputs": [
    {
     "name": "stdout",
     "output_type": "stream",
     "text": [
      "(2, 3)\n",
      "(2, 3)\n"
     ]
    },
    {
     "data": {
      "text/plain": [
       "array([[ 7, 16, 27],\n",
       "       [40, 55, 72]])"
      ]
     },
     "execution_count": 38,
     "metadata": {},
     "output_type": "execute_result"
    }
   ],
   "source": [
    "print(X.shape)\n",
    "print(Y.shape)\n",
    "X*Y"
   ]
  },
  {
   "cell_type": "code",
   "execution_count": 41,
   "metadata": {},
   "outputs": [
    {
     "data": {
      "text/plain": [
       "array([[1, 2, 3],\n",
       "       [4, 5, 6]])"
      ]
     },
     "metadata": {},
     "output_type": "display_data"
    },
    {
     "data": {
      "text/plain": [
       "array([[ 7,  8,  9],\n",
       "       [10, 11, 12]])"
      ]
     },
     "metadata": {},
     "output_type": "display_data"
    }
   ],
   "source": [
    "display(X)\n",
    "display(Y)"
   ]
  },
  {
   "cell_type": "code",
   "execution_count": 58,
   "metadata": {},
   "outputs": [],
   "source": [
    "def multiply_matrices(x, y):\n",
    "    if x.shape == y.shape:\n",
    "        new_matrix = np.zeros(shape=(x.shape))\n",
    "        for i in range(len(X)):\n",
    "            for j in range(len(x[0])):\n",
    "                new_matrix[i][j] = x[i][j] * y[i][j]\n",
    "    return new_matrix\n",
    "           "
   ]
  },
  {
   "cell_type": "code",
   "execution_count": 59,
   "metadata": {},
   "outputs": [
    {
     "data": {
      "text/plain": [
       "array([[ 7., 16., 27.],\n",
       "       [40., 55., 72.]])"
      ]
     },
     "execution_count": 59,
     "metadata": {},
     "output_type": "execute_result"
    }
   ],
   "source": [
    "multiply_matrices(X, Y)"
   ]
  },
  {
   "cell_type": "markdown",
   "metadata": {},
   "source": [
    "### Dot Products\n",
    "\n",
    "(n * k) * (k * j) -> shape of n * j"
   ]
  },
  {
   "cell_type": "code",
   "execution_count": 62,
   "metadata": {},
   "outputs": [
    {
     "ename": "ValueError",
     "evalue": "shapes (2,3) and (2,3) not aligned: 3 (dim 1) != 2 (dim 0)",
     "output_type": "error",
     "traceback": [
      "\u001b[0;31m---------------------------------------------------------------------------\u001b[0m",
      "\u001b[0;31mValueError\u001b[0m                                Traceback (most recent call last)",
      "\u001b[0;32m<ipython-input-62-3a259225077c>\u001b[0m in \u001b[0;36m<module>\u001b[0;34m()\u001b[0m\n\u001b[1;32m      1\u001b[0m \u001b[0;31m# cant multiply X and Y because shape is not correct\u001b[0m\u001b[0;34m\u001b[0m\u001b[0;34m\u001b[0m\u001b[0;34m\u001b[0m\u001b[0m\n\u001b[0;32m----> 2\u001b[0;31m \u001b[0mnp\u001b[0m\u001b[0;34m.\u001b[0m\u001b[0mdot\u001b[0m\u001b[0;34m(\u001b[0m\u001b[0mX\u001b[0m\u001b[0;34m,\u001b[0m \u001b[0mY\u001b[0m\u001b[0;34m)\u001b[0m\u001b[0;34m\u001b[0m\u001b[0;34m\u001b[0m\u001b[0m\n\u001b[0m",
      "\u001b[0;31mValueError\u001b[0m: shapes (2,3) and (2,3) not aligned: 3 (dim 1) != 2 (dim 0)"
     ]
    }
   ],
   "source": [
    "# cant multiply X and Y because shape is not correct\n",
    "np.dot(X, Y)"
   ]
  },
  {
   "cell_type": "code",
   "execution_count": 63,
   "metadata": {},
   "outputs": [
    {
     "name": "stdout",
     "output_type": "stream",
     "text": [
      "(2, 3)\n",
      "(2, 3)\n"
     ]
    }
   ],
   "source": [
    "print(X.shape)\n",
    "print(Y.shape)"
   ]
  },
  {
   "cell_type": "code",
   "execution_count": 68,
   "metadata": {},
   "outputs": [
    {
     "data": {
      "text/plain": [
       "array([[ 50,  68],\n",
       "       [122, 167]])"
      ]
     },
     "metadata": {},
     "output_type": "display_data"
    },
    {
     "data": {
      "text/plain": [
       "array([[47, 52, 57],\n",
       "       [64, 71, 78],\n",
       "       [81, 90, 99]])"
      ]
     },
     "metadata": {},
     "output_type": "display_data"
    }
   ],
   "source": [
    "# 2 x 3 * 3 x 2 --> 2 x 2\n",
    "display(np.dot(X, Y.T))\n",
    "\n",
    "# 3 x 2 * 2 x 3 --> 3 x 3\n",
    "display(np.dot(X.T, Y))"
   ]
  },
  {
   "cell_type": "code",
   "execution_count": 104,
   "metadata": {},
   "outputs": [],
   "source": [
    "def matrix_dot_product(x, y):\n",
    "    if x.shape[1] == y.shape[0]:\n",
    "        new_matrix = np.zeros(shape=(x.shape[0], y.shape[1]))\n",
    "    else:\n",
    "        return 'Dimensions do not match'\n",
    "    \n",
    "    for i in range(x.shape[0]):\n",
    "        for k in range(y.shape[1]):\n",
    "            sum_ = 0\n",
    "            for j in range(x.shape[1]): # this is the same length in both X and Y\n",
    "                sum_ += x[i][j] * y[j][k]\n",
    "            new_matrix[i][k] = sum_\n",
    "    return new_matrix\n",
    "    \n",
    "                "
   ]
  },
  {
   "cell_type": "code",
   "execution_count": 107,
   "metadata": {},
   "outputs": [
    {
     "name": "stdout",
     "output_type": "stream",
     "text": [
      "[[47. 52. 57.]\n",
      " [64. 71. 78.]\n",
      " [81. 90. 99.]]\n"
     ]
    }
   ],
   "source": [
    "result = matrix_dot_product(X.T, Y)\n",
    "print(result)"
   ]
  },
  {
   "cell_type": "code",
   "execution_count": 115,
   "metadata": {},
   "outputs": [
    {
     "data": {
      "text/plain": [
       "array([[2209., 2704., 3249.],\n",
       "       [4096., 5041., 6084.],\n",
       "       [6561., 8100., 9801.]])"
      ]
     },
     "execution_count": 115,
     "metadata": {},
     "output_type": "execute_result"
    }
   ],
   "source": [
    "result_sq = result**2\n",
    "result_sq"
   ]
  },
  {
   "cell_type": "code",
   "execution_count": 117,
   "metadata": {},
   "outputs": [
    {
     "data": {
      "text/plain": [
       "array([[ 21.68055556, -31.72222222,  12.50462963],\n",
       "       [-39.05555556,  57.22222222, -22.57407407],\n",
       "       [ 17.76388889, -26.05555556,  10.28549383]])"
      ]
     },
     "execution_count": 117,
     "metadata": {},
     "output_type": "execute_result"
    }
   ],
   "source": [
    "inv_result_sq = np.linalg.inv(result_sq)\n",
    "inv_result_sq"
   ]
  },
  {
   "cell_type": "code",
   "execution_count": 120,
   "metadata": {},
   "outputs": [
    {
     "data": {
      "text/plain": [
       "array([[ 1.,  0.,  0.],\n",
       "       [-0.,  1.,  0.],\n",
       "       [ 0., -0.,  1.]])"
      ]
     },
     "execution_count": 120,
     "metadata": {},
     "output_type": "execute_result"
    }
   ],
   "source": [
    "# makes identity matrix\n",
    "np.round(np.dot(result_sq, inv_result_sq), 2)"
   ]
  },
  {
   "cell_type": "markdown",
   "metadata": {},
   "source": [
    "# System of Linear Equations\n",
    "\n",
    "Matrices were invented in the context of **systems of linear equations**.\n",
    "\n",
    "A system of linear equations is a collection of equations like:\n",
    "\n",
    "\\begin{align*}\n",
    "    a_{11}x_1 + \\cdots + a_{1n}x_n &= b_1 \\\\\n",
    "    a_{21}x_1 + \\cdots + a_{2n}x_n &= b_2 \\\\\n",
    "    \\vdots \\hspace{1in} \\vdots \\\\\n",
    "    a_{m1}x_1 + \\cdots + a_{mn}x_n &= b_m \n",
    "\\end{align*}\n",
    "\n",
    "So for example:\n",
    "\n",
    "\\begin{align*}\n",
    "    2 x_1 - x_2 = 4 \\\\\n",
    "    x_1 + 6 x_2 = 0\n",
    "\\end{align*}\n",
    "\n",
    "We can represent the system above as a matrix and a vector:\n",
    "\n",
    "$$ \\\n",
    "\\text{LHS} =   \\begin{bmatrix}\n",
    "    2 & -1 \\\\\n",
    "    1 & 6\n",
    "  \\end{bmatrix},\n",
    "\\\n",
    "\\text{RHS} = [4, 0]\n",
    "$$\n",
    "\n",
    "We can solve systems of linear equations in `numpy` by using `np.linalg.solve`"
   ]
  },
  {
   "cell_type": "code",
   "execution_count": 121,
   "metadata": {},
   "outputs": [
    {
     "name": "stdout",
     "output_type": "stream",
     "text": [
      "x1 = 2.15\n",
      "x2 = 0.31\n",
      "2*x1 - x2 = 4.00\n",
      "x1 + 6*x2 = 4.00\n"
     ]
    }
   ],
   "source": [
    "M = np.array([[2, -1], [1, 6]])\n",
    "b = np.array([4, 4])\n",
    "\n",
    "x1, x2 = np.linalg.solve(M, b)\n",
    "print(\"x1 = {:2.2f}\".format(x1))\n",
    "print(\"x2 = {:2.2f}\".format(x2))\n",
    "print(\"2*x1 - x2 = {:2.2f}\".format(2*x1 - x2))\n",
    "print(\"x1 + 6*x2 = {:2.2f}\".format(x1 + 6*x2))"
   ]
  },
  {
   "cell_type": "markdown",
   "metadata": {},
   "source": [
    "# Matrix Multiplication\n",
    "\n",
    "**Matrix Multiplication** was invented to describe how solutions to systems of linear equations are related to each other.\n",
    "\n",
    "Suppose we have two systems of equations, where the right hand side of the second is equal to the solutions to the first.\n",
    "\n",
    "Then we can substitute the second equation **into** the first to get a **single** system of equations for $y$:\n",
    "\n",
    "\\begin{align*}\n",
    "    (2 \\times 1 + (-1) \\times 2) y_1 + (2 \\times 1 + (-1) \\times (-3)) y_2 = 4 \\\\\n",
    "    ((1) \\times (1) + (6) \\times (2)) y_1 + ((1) \\times (1) + (6) \\times (-3) ) y_2 = 0\n",
    "\\end{align*}\n",
    "\n",
    "The coefficients in this new equation are an example of **matrix multiplication**\n",
    "\n",
    "$$\n",
    "\\begin{bmatrix}\n",
    "    2 & -1 \\\\\n",
    "    1 & 6\n",
    "\\end{bmatrix}\n",
    "\\begin{bmatrix}\n",
    "    1 & 1 \\\\\n",
    "    2 & -3\n",
    "\\end{bmatrix} = \n",
    "\\begin{bmatrix}\n",
    "    (2)(1) + (-1)(2) & (2)(1) + (-1)(-3) \\\\\n",
    "    (1)(1) + (6)(2) & (1)(1) + (6)(-3)\n",
    "\\end{bmatrix}\n",
    "$$\n",
    "\n",
    "In order to multiply two matrices, they must be **conformable**: the number of columns of the first matrix must be the same as the number of rows of the second matrix.\n",
    "\n",
    "Let $X$ be a matrix with shape $n \\times k$ and let $Y$ be a matrix with shape $k \\times p$, then the product $XY$ will be a matrix with shape $n \\times p$ whose $(i,j)^{th}$ element is given by the dot product of the $i^{th}$ row of $X$ and the $j^{th}$ column of $Y$\n",
    "\n",
    "$$(XY)_{i,j} = x_{i1}y_{1j} + \\cdots + x_{ik}y_{kj}$$"
   ]
  },
  {
   "cell_type": "code",
   "execution_count": 122,
   "metadata": {},
   "outputs": [
    {
     "name": "stdout",
     "output_type": "stream",
     "text": [
      "X = \n",
      "[[ 2  1  0]\n",
      " [-1  2  3]]\n",
      "\n",
      "Y = \n",
      "[[ 0 -2]\n",
      " [ 1  2]\n",
      " [ 1  1]]\n",
      "\n",
      "XY = \n",
      "[[ 1 -2]\n",
      " [ 5  9]]\n"
     ]
    }
   ],
   "source": [
    "X = np.array([[2, 1, 0], [-1, 2, 3]])\n",
    "print(\"X = \\n{}\".format(X))\n",
    "print()\n",
    "\n",
    "Y = np.array([[0, -2], [1, 2], [1, 1]])\n",
    "print(\"Y = \\n{}\".format(Y))\n",
    "print()\n",
    "\n",
    "# Matrix multiply with dot operator\n",
    "print(\"XY = \\n{}\".format(np.dot(X, Y)))"
   ]
  },
  {
   "cell_type": "code",
   "execution_count": 123,
   "metadata": {},
   "outputs": [
    {
     "name": "stdout",
     "output_type": "stream",
     "text": [
      "(2, 3)\n",
      "(3, 2)\n"
     ]
    }
   ],
   "source": [
    "print(X.shape)\n",
    "print(Y.shape)"
   ]
  },
  {
   "cell_type": "markdown",
   "metadata": {},
   "source": [
    "#### Note: \n",
    "\n",
    "$$XY \\neq YX$$"
   ]
  },
  {
   "cell_type": "code",
   "execution_count": 125,
   "metadata": {},
   "outputs": [
    {
     "name": "stdout",
     "output_type": "stream",
     "text": [
      "XY = \n",
      "[[ 1 -2]\n",
      " [ 5  9]]\n",
      "\n",
      "YX = \n",
      "[[ 2 -4 -6]\n",
      " [ 0  5  6]\n",
      " [ 1  3  3]]\n"
     ]
    }
   ],
   "source": [
    "print(\"XY = \\n{}\".format(np.dot(X, Y)))\n",
    "print()\n",
    "print(\"YX = \\n{}\".format(np.dot(Y, X)))"
   ]
  },
  {
   "cell_type": "code",
   "execution_count": 6,
   "metadata": {},
   "outputs": [],
   "source": [
    "def any_sum_elements(l):\n",
    "    all_sums = []\n",
    "    for i in range(len(l)-1):\n",
    "        for j in range(i+1, len(l)):\n",
    "            sum_ = l[i] + l[j]\n",
    "            all_sums.append(sum_)\n",
    "    print(all_sums)\n",
    "    for i in all_sums:\n",
    "        if i in l:\n",
    "            return True\n",
    "        else:\n",
    "            return False"
   ]
  },
  {
   "cell_type": "code",
   "execution_count": 7,
   "metadata": {},
   "outputs": [
    {
     "name": "stdout",
     "output_type": "stream",
     "text": [
      "[7, 8, 9, 33, 9, 10, 34, 11, 35, 36]\n"
     ]
    },
    {
     "data": {
      "text/plain": [
       "False"
      ]
     },
     "execution_count": 7,
     "metadata": {},
     "output_type": "execute_result"
    }
   ],
   "source": [
    "any_sum_elements([3, 4, 5, 6, 30])"
   ]
  },
  {
   "cell_type": "code",
   "execution_count": null,
   "metadata": {},
   "outputs": [],
   "source": []
  },
  {
   "cell_type": "code",
   "execution_count": null,
   "metadata": {},
   "outputs": [],
   "source": []
  },
  {
   "cell_type": "markdown",
   "metadata": {},
   "source": [
    "# Logs"
   ]
  },
  {
   "cell_type": "code",
   "execution_count": 3,
   "metadata": {},
   "outputs": [
    {
     "data": {
      "text/plain": [
       "8"
      ]
     },
     "execution_count": 3,
     "metadata": {},
     "output_type": "execute_result"
    }
   ],
   "source": [
    "import numpy as np\n",
    "\n",
    "2**3 "
   ]
  },
  {
   "cell_type": "code",
   "execution_count": 5,
   "metadata": {},
   "outputs": [
    {
     "data": {
      "text/plain": [
       "4.605170185988092"
      ]
     },
     "execution_count": 5,
     "metadata": {},
     "output_type": "execute_result"
    }
   ],
   "source": [
    "np.log(100)"
   ]
  },
  {
   "cell_type": "code",
   "execution_count": 9,
   "metadata": {},
   "outputs": [
    {
     "data": {
      "text/plain": [
       "20.123648000000003"
      ]
     },
     "execution_count": 9,
     "metadata": {},
     "output_type": "execute_result"
    }
   ],
   "source": [
    "2.72 ** 3"
   ]
  },
  {
   "cell_type": "code",
   "execution_count": 7,
   "metadata": {},
   "outputs": [
    {
     "data": {
      "text/plain": [
       "3.0"
      ]
     },
     "execution_count": 7,
     "metadata": {},
     "output_type": "execute_result"
    }
   ],
   "source": [
    "np.log2(8)"
   ]
  },
  {
   "cell_type": "code",
   "execution_count": 8,
   "metadata": {},
   "outputs": [
    {
     "data": {
      "text/plain": [
       "3.0"
      ]
     },
     "execution_count": 8,
     "metadata": {},
     "output_type": "execute_result"
    }
   ],
   "source": [
    "np.log10(1000)"
   ]
  },
  {
   "cell_type": "code",
   "execution_count": 10,
   "metadata": {},
   "outputs": [
    {
     "data": {
      "text/plain": [
       "3.0018634394842314"
      ]
     },
     "execution_count": 10,
     "metadata": {},
     "output_type": "execute_result"
    }
   ],
   "source": [
    "np.log(20.123)"
   ]
  },
  {
   "cell_type": "code",
   "execution_count": null,
   "metadata": {},
   "outputs": [],
   "source": []
  }
 ],
 "metadata": {
  "kernelspec": {
   "display_name": "Python 3",
   "language": "python",
   "name": "python3"
  },
  "language_info": {
   "codemirror_mode": {
    "name": "ipython",
    "version": 3
   },
   "file_extension": ".py",
   "mimetype": "text/x-python",
   "name": "python",
   "nbconvert_exporter": "python",
   "pygments_lexer": "ipython3",
   "version": "3.7.3"
  }
 },
 "nbformat": 4,
 "nbformat_minor": 2
}
