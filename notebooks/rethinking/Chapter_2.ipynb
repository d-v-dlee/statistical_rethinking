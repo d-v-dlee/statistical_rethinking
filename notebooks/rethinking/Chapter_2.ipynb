{
 "cells": [
  {
   "cell_type": "markdown",
   "metadata": {},
   "source": [
    "### Globe Example:\n",
    "You toss a small globe in the air, when you catch it you randomly place your index finger on it. You record if your finger landed on land (L) or water (W). Your results are:\n",
    "\n",
    "W L W W W L W L W\n",
    "\n",
    "**Bayesian design loops**\n",
    "1) Data story: narrate how the data might arrise\n",
    "2) Update: feed model data\n",
    "3) Evaluate: decide if it needs revision\n",
    "\n",
    "**Data story**:\n",
    "- true proportion of water covering globe is *p*\n",
    "- toss of globe has probability of *p* of producing W, and a probability of *1-p* of producing L\n",
    "- each globe toss is independent"
   ]
  },
  {
   "cell_type": "markdown",
   "metadata": {},
   "source": [
    "### 1) Likelihood - the mathematical formula that specifies the plausibility of the data"
   ]
  },
  {
   "cell_type": "code",
   "execution_count": 1,
   "metadata": {},
   "outputs": [],
   "source": [
    "import scipy.stats as ss\n",
    "import numpy as np"
   ]
  },
  {
   "cell_type": "code",
   "execution_count": 2,
   "metadata": {},
   "outputs": [
    {
     "name": "stdout",
     "output_type": "stream",
     "text": [
      "0.16406250000000006\n"
     ]
    }
   ],
   "source": [
    "# six heads on nine tosses with 0.5 chance of L\n",
    "w, n, p = 6, 9, 0.5\n",
    "prob = ss.binom.pmf(w, n, p)\n",
    "print(prob)"
   ]
  },
  {
   "cell_type": "code",
   "execution_count": 3,
   "metadata": {},
   "outputs": [
    {
     "name": "stdout",
     "output_type": "stream",
     "text": [
      "0.27306744192061744\n"
     ]
    }
   ],
   "source": [
    "w, n, p = 6, 9, 0.67\n",
    "prob = ss.binom.pmf(w, n, p)\n",
    "print(prob)"
   ]
  },
  {
   "cell_type": "markdown",
   "metadata": {},
   "source": [
    "This is the **likelihood**. The job of the likelihood is to tell us the relative number of ways to see the data *w* given values for *p* and *n*\n",
    "\n",
    "As sample size increases, likelihood matters more and more."
   ]
  },
  {
   "cell_type": "markdown",
   "metadata": {},
   "source": [
    "### 2) Parameters\n",
    "\n",
    "for likelihood functions, there are adjustable inputs - these are the parameters. One or all of these may be quantities that we wish to estimate from data.\n",
    "\n",
    "For our binomial distribution we have *p* (the probability of seeing W), *n* (sample size) and *w* (number of times water was seen). Here we are trying to learn *p* as we believe we have recorded *w* and *n* without error.\n",
    "\n",
    "In statistical modeling, most of the questions we ask are answered directly by parameters:\n",
    "- what is the avg difference between treatment group?\n",
    "- how strong is the association beteween a treatment and an outcome?\n",
    "- how much variation is there among groups?"
   ]
  },
  {
   "cell_type": "markdown",
   "metadata": {},
   "source": [
    "### 3) Prior\n",
    "for every parameter we want our Bayesian models to estimate, we must provide a **prior** (initial plausability)\n",
    "previous estimates can become future priors.\n",
    "\n",
    "Pr(p) = 1 / (1-0) = 1      every probability distribution must sum up to 1\n",
    "\n",
    "Priors are engineering assumptions. We generally want to avoid flat priors and want weakly informative priors. Priors are useful for constraining parameters to reasonable ranges as well as for expressing any knowledge we have about the parameter before any data is observed. \n",
    "\n",
    "For example, we know that p being 0 or 1 are completely implausible.\n",
    "\n",
    "If you dont have a strong argument for any particular prior, try different ones. Ultimately a prior is an assumption."
   ]
  },
  {
   "cell_type": "markdown",
   "metadata": {},
   "source": [
    "### 4) Posterior\n",
    "\n",
    "Once you have chosen a likelihood, which parameters are to be estimated, and a prior for each parameter, a Bayesian model treats the estimates as a purely logical consequence of those assumptions.\n",
    "\n",
    "For every unique combination of data, likelihood, parameters and prior, there is a unique set of estimates. The resulting estimates - the relative plausbility of different parameters values, condtional on the data - are known as the **Posterior Distribution**.\n",
    "\n",
    "This is through Bayes Theorem.\n",
    "\n",
    "Pr(w, p) = Pr(w|p)Pr(p)\n",
    "\n",
    "probability of w and p is the product of the likelihood of Pr(w|p) and the prior probability Pr(p). for example probability of rain and cold is equal to probability of rain, when its cold, times the probability of cold.\n",
    "\n",
    "Posterior = (Likelihood x Prior) / Average Likelihood\n",
    "\n",
    "Three main ways for computing Posterior Distrbutions.\n",
    "1. Grid Approximation\n",
    "2. Quadratic Approximation\n",
    "3. Markov chain Monte Carlo (MCMC)"
   ]
  },
  {
   "cell_type": "markdown",
   "metadata": {},
   "source": [
    "### Grid Approximation\n",
    "While most parameters are continunous, we can achieve a good approximation of continuous posterior distribution by only considering a finite grid of paramter values. For different values of p', we multiply the prior probability of p' by the likelihood at p'. \n",
    "\n",
    "Pros:\n",
    "- easy\n",
    "\n",
    "Cons:\n",
    "- scales poorly as number of parameter increases\n",
    "\n",
    "Recipe:\n",
    "1. define the grid (# of points, list of parameter values)\n",
    "2. Compute value of prior at each paramter value on the grid\n",
    "3. Compute likelihood at each parameter value\n",
    "4. Compute unstandardized posterior at each paramter value, multiplying the prior by likelihood\n",
    "5. standardize posterior by dividing each value by the sum of all values"
   ]
  },
  {
   "cell_type": "code",
<<<<<<< HEAD:notebooks/rethinking/Chapter_2.ipynb
   "execution_count": 10,
=======
   "execution_count": 4,
>>>>>>> decb334aa65010b1660a2f89b1c2bf62b25d0645:notebooks/Chapter_2.ipynb
   "metadata": {},
   "outputs": [],
   "source": [
    "### define grid - potentially prob for p\n",
    "p_grid = np.linspace(0, 1, 20)\n",
    "#print(p_grid)\n",
    "\n",
    "### define prior \n",
    "prior = np.repeat(1, 20)\n",
    "#print(prior)\n",
    "\n",
    "### likelihood at each value in grid\n",
    "likelihood = ss.binom.pmf(6, 9, p=p_grid)\n",
    "#print(likelihood)\n",
    "\n",
    "### compute product of likelihood and prior\n",
    "unstd_posterior = likelihood * prior\n",
    "\n",
    "### standardize posterior\n",
    "posterior = unstd_posterior / sum(unstd_posterior)"
   ]
  },
  {
   "cell_type": "code",
   "execution_count": 11,
   "metadata": {},
   "outputs": [],
   "source": [
    "import matplotlib.pyplot as plt"
   ]
  },
  {
   "cell_type": "code",
   "execution_count": 12,
   "metadata": {},
   "outputs": [
    {
     "data": {
      "text/plain": [
<<<<<<< HEAD:notebooks/rethinking/Chapter_2.ipynb
       "[<matplotlib.lines.Line2D at 0x118d5d908>]"
=======
       "[<matplotlib.lines.Line2D at 0x1faea345048>]"
>>>>>>> decb334aa65010b1660a2f89b1c2bf62b25d0645:notebooks/Chapter_2.ipynb
      ]
     },
     "execution_count": 12,
     "metadata": {},
     "output_type": "execute_result"
    },
    {
     "data": {
      "image/png": "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\n",
      "text/plain": [
       "<Figure size 432x288 with 1 Axes>"
      ]
     },
     "metadata": {
      "needs_background": "light"
     },
     "output_type": "display_data"
    }
   ],
   "source": [
    "plt.plot(p_grid, posterior)"
   ]
  },
  {
   "cell_type": "code",
   "execution_count": 16,
   "metadata": {},
   "outputs": [],
   "source": [
    "def binom_grid_approximation(p_grid_size, w, n, prior=None):\n",
    "    ### define grid\n",
    "    p_grid = np.linspace(0, 1, p_grid_size)\n",
    "\n",
    "    ### define prior\n",
    "    if not prior:\n",
    "        prior = np.repeat(1, p_grid_size)\n",
    "    else:\n",
    "        prior = prior\n",
    "\n",
    "    ### likelihood at each value in grid\n",
    "    likelihood = ss.binom.pmf(w, n, p=p_grid)\n",
    "\n",
    "    ### compute product of likelihood and prior\n",
    "    unstd_posterior = likelihood * prior\n",
    "\n",
    "    ### standardize posterior\n",
    "    posterior = unstd_posterior / sum(unstd_posterior)\n",
    "\n",
    "    plt.plot(p_grid, posterior)"
   ]
  },
  {
   "cell_type": "code",
   "execution_count": 18,
   "metadata": {},
   "outputs": [
    {
     "data": {
      "image/png": "iVBORw0KGgoAAAANSUhEUgAAAXQAAAD4CAYAAAD8Zh1EAAAABHNCSVQICAgIfAhkiAAAAAlwSFlzAAALEgAACxIB0t1+/AAAADh0RVh0U29mdHdhcmUAbWF0cGxvdGxpYiB2ZXJzaW9uMy4xLjMsIGh0dHA6Ly9tYXRwbG90bGliLm9yZy+AADFEAAAgAElEQVR4nO3dd3jUZb738fedTkIChCSE9AyEjrQQApIgIs2C7toQsFPcY2F1bXt2zz7nePY851FXj67iSllxXSmia2EVwUYJLRB6kUBIT4CEFkJC+v38kejJssEMMDP3lO/ruryuTOaXzOdnMh/uTPneSmuNEEII1+dlOoAQQgjbkEIXQgg3IYUuhBBuQgpdCCHchBS6EEK4CR9TNxwWFqYTEhJM3bwQQrikHTt2nNRah7d1nbFCT0hIICsry9TNCyGES1JKFVzqOnnIRQgh3IQUuhBCuAkpdCGEcBNS6EII4Sak0IUQwk1IoQshhJuQQhdCCDchhS5EK9V1Dby7KY+csvOmowhx2Yy9sUgIZ/TW2qO8uTYHgFRLKNNHxDOxfyR+PrL2Ec5PCl2IFmXnali0MZcJ/boxOK4zSzMLeXzZLroG+XFncizTUuKI6xpoOqYQlySFLkSL1789QkOj5l9v7EtCWBCPpPdgw5FylmQWsmDDUd5ef5T0XuFMHxHHuD4R+HjLql04Fyl0IYC8k1Us317E9BFxJIQFAeDlpbiudwTX9Y7gWMUFPthexPJtRcz56w4iQwK4e3gsU1Ni6d6pg+H0QjRTpvYUTU5O1jKcSziLR5fuZO2hMtY/M5bwYP9LHtfQ2MR3h8pYklnIhiPlKGBc325MHxFHelI4Xl7KcaGFR1JK7dBaJ7d1nazQhcfbV1zBF3uP8cT1PX+yzAF8vL2Y0D+SCf0jKTxVzbLthazYXsTXB08Q06UD00bEceew2Ha/jxD2ICt04fFmLMrk4LFzrH/mOoIDfC/76+samlhz4DhLMgvYmnsaX2/FhP6RTB8Rx0hLV5SSVbuwHVmhC3EJG4+cZGPOSf7t5n5XVOYAfj5e3DIoilsGRZFTdp5l2wr5aEcxX+w9hiU8iGkpcdwxLIbOgX42Ti/EP5IVuvBYTU2aW+dt4nRVHd89PQZ/H2+bfe+a+ka+2HuMJZkF7Cw8i5+PFzdf053pI+IZGtdZVu3iiskKXYg2rNp/jH0lFbxy5yCbljlAgK83tw+L4fZhMRwsPcfSbQV8srOEj3eW0CcymOmp8dw2OOqK/yoQoi2yQhceqb6xifGvrsffx5tVc9PwdsCrU87XNrBydylLMgs4UHqOQD9vbh0cxfQR8QyI7mT32xfuQVboQlxk+fYi8k9V8+f7kx1S5gAd/X2YNiKOe1Ji2VNcwdLMAj7ZVcKybUUMiunE9BHx3DIoig5+tv1rQXgOWaELj1Nd18CYl9eR0DWQFXNGGn08u+JCPZ/sLGZJZiFHys4THODD7UNjmDYijl7dgo3lEs5LVuhCtPLOxjzKK2t5e8ZQ409OdurgywPXJnL/qAS2559hSWYBSzMLeXdzPikJoUxPjWPSgEibP8Yv3JMUuvAoZ6rqmL8+l/H9ujEsPtR0nB8ppUhJDCUlMZTf3VzLRzuKWbqtkLnLdxMa5Medw2K4J+V/xxII0RYpdOFR5q3NoaqugWcn9jYd5ZK6dvRnzpgezEqzsOnoSZZsLWTRxjzmb8glLSmMaSlx3NCvG74yHExcRApdeIySsxd4b0sBtw+NIckFHp/28lKkJYWTlhTOiXM1LcPBCvnFkp2EB/szdXgsU1PiiO4sw8FEM3lSVHiMpz/cw8o9pax7+jqiXLQEG5s067Kbh4OtzS5DAWN7RzA9NY4xvSIc9oodYY48KSo83uETlXy8s5iHRye6bJkDeHspxvXtxri+3Sg+U83ybUUs317Et+9mEd25A/ekxHJXciwRIQGmowoDZIUuPMLMv2SRmXuKDc+OpUuQe81UqW9s4uuDJ1iSWcCmnFP4eCkm9O/G9BHxjLR0lZG+bkZW6MKjZeWf5pvvT/DMxN5uV+YAvt5e3DiwOzcO7E5u+f8OB1u17ziJYc3DwW4fFkOoG567+EeyQhduTWvNnW9voeB0NeufuY5AP89Yw9TUN7J6f/NI3+35Z/Dz9uLGgZFMT40nOb6L8dffiysnK3Thsb79voysgjP8/rYBHlPm0Dwc7LYh0dw2JJrs45UszSzg450lfLq7lF7dOjJ9RDw/GxpNiAwHcyuyQhduq7FJM/n1DdQ3ar56Mt3jX7ddXdfA3/eUsiSzkL3FFXTw9WbKoCimp8ZxTUxn0/GElWSFLjzSJ7tKOHziPPOmDfX4MgcI9PPh7uFx3D08jr3FZ1maWchnu0v5IKuIgdGdmD4ijlsGRRHkL7XgqmSFLtxSTX0j415ZT9eOfnz26LXymPElnKup57NdJby/tZDsE5UE+/vws6HRTBsRR5/IENPxRBtkhS48zvtbCyg5e4GX7rhGyvwnhAT4cu/IBGakxrOz8AxLthayfHsR720pYFh8F6aPiOPGgd0J8JXhYK7Aqr9DlVKTlFLZSqkcpdTzP3HcHUoprZRq818PIRzhXE0989bmkJYUxrU9w0zHcQlKKYbFh/Lq3YPJ/PU4fntTX05X1fHUij2k/ve3/P7zg+SWnzcdU7Sj3RW6UsobmAeMB4qB7UqplVrrgxcdFww8AWTaI6gQ1lq4IZcz1fU8N6mP6SguqUuQHzPTLDw8OpEtR0+xpGWc76KNeYzq0ZXpI+IZ368bfj7yvISzseYhlxQgR2udC6CUWg7cChy86Lj/BF4CnrZpQiEuQ1llDYsy8rj5mu6yrdtVUkoxqmcYo3qGUVZZw4dZxSzNLOTRpTsJ6+jP3cNjmDo8jtjQQNNRRQtr/omNBopaXS5u+dyPlFJDgFit9ec/9Y2UUrOVUllKqazy8vLLDitEe974Nof6xiaenuC843FdUURwAI+O7cmGZ8ey+MHhDI7tzJ/WHSX95bU89O52Tp6vNR1RYF2ht/WM0o8vjVFKeQH/A/yqvW+ktV6gtU7WWieHh4dbn1IIK+SfrGLZtkKmpsTKRhB24u2lGNs7gkX3J7Pxuet5/PokNhwu5621R01HE1hX6MVAbKvLMUBpq8vBwABgnVIqH0gFVsoTo8LR/vBVNr7eXjwxLsl0FI8Q1bkDT43vxS2Doli+vZCK6nrTkTyeNYW+HUhSSiUqpfyAqcDKH67UWldorcO01gla6wRgKzBFay0vMhcOs6+4gs/3HuPh0YlEBMvoWEealWahuq6R9zMLTEfxeO0Wuta6AXgMWAN8D6zQWh9QSr2glJpi74BCWOOlNYfoEujL7DEW01E8Tr+oENKSwnh3cz61DY2m43g0q153pLVepbXupbXuobX+r5bP/U5rvbKNY6+T1blwpE05J8k4cpJHx/aUYVOGzEnvQXllLZ/tKm3/YGE38kJS4dK01ry4+hDRnTswIzXedByPdW3PrvTrHsKCjFyamsyMExFS6MLFrdp3nL3FFTw5vpe8Pd0gpRSz0y3klJ1nbXaZ6TgeSwpduKz6xib+8FU2vbsF87Mh0e1/gbCrm67pTlSnAOZvyDUdxWNJoQuXtSKriLyTVTwzsbfsdu8EfL29eGh0ItvyTrO76KzpOB5JCl24pOq6Bl7/5gjJ8V0Y1zfCdBzRYmpKHMEBPiyUVboRUujCJS3elE9ZZS3PT+4j43GdSEd/H6aPiOfL/ccoPFVtOo7HkUIXLudMVR1vrzvKDX0jSE4INR1HXOTBaxPw9lIs2iirdEeTQhcu5611OZyva+CZiTIe1xl1CwngtsHRrMgq4nRVnek4HkUKXbiUkrMX+MuWAm4fGkPvyGDTccQlzE63UFPfxF+3yDgAR5JCFy7lta8PA/Dk+F6Gk4ifktQtmOv7RPDelnxq6mUcgKNIoQuXceREJX/bWcx9qfFEd+5gOo5ox6w0C6eq6vjbzmLTUTyGFLpwGS+tySbIz4dHx/Y0HUVYIdUSyjUxnViUkUejjANwCCl04RJ2FJzm64MnmDPGQpcgP9NxhBV+GAeQd7KKrw+eMB3HI0ihC6entebFL7MJD/bnodGJpuOIyzCpfySxoR1YsEF2NHIEKXTh9NZml7Et/zRPjEsi0M+afc2Fs/Dx9uLhaxPZWXiWHQWnTcdxe1Lowqk1NjWvzhO6BjJ1eGz7XyCczl3DY+kc6Mv89fJGI3uTQhdO7dNdJWSfqORXE3rj6y2/rq4o0M+He1Pj+fr7E+SWnzcdx63JPUQ4rdqGRl79+jADokO4aWB303HEVbhvZAK+3l4szMgzHcWtSaELp/X+1kJKzl7guUl98JLxuC4tPNif24fG8LedxZw8X2s6jtuSQhdOqbKmnnlrcxjdM4y0pHDTcYQNzExLpL6xifc255uO4rak0IVTWrghl9NVdTw3SQZwuYse4R25oW833ttaQHVdg+k4bkkKXTid8spaFm3M46ZrujMwppPpOMKG5qRbOFtdz4dZMg7AHqTQhdN547sj1DU08fSE3qajCBtLTghlaFxnFm3MpaGxyXQctyOFLpxKwakqlmYWcvfwWBLDgkzHEXYwO70HRacvsOaAjAOwNSl04VRe+eowvt5ezB2XZDqKsJPx/bqR0DWQBRuOorUM7bIlKXThNPaXVLByTykPjU4gIiTAdBxhJ95eiplpFvYUV5CZJ+MAbEkKXTiNF1cfonOgL3PG9DAdRdjZHcNi6Brkx4INMg7AlqTQhVPYnHOSjCMnefS6noQE+JqOI+wswNeb+0Ym8N2hMo6cqDQdx21IoQvjtNa8uPoQUZ0CuHdkvOk4wkHuHRlPgK8XCzNklW4rUujCuC/3H2dPcQVPju9FgK+36TjCQUKD/LhzWCyf7iql7FyN6ThuQQpdGNXQ2MQf1mTTq1tHfj40xnQc4WAz0xJpaGpisYwDsAkpdGHUiqxick9W8czEPnjLAC6PE981iEkDInl/awHna2UcwNWSQhfGXKhr5LVvDpMc34Ub+kaYjiMMmZVmobKmgeXbCk1HcXlWFbpSapJSKlsplaOUer6N6x9RSu1TSu1WSm1USvWzfVThbhZvzqOsspbnJvdBKVmde6ohcV1ISQhl8aZ86mUcwFVpt9CVUt7APGAy0A+4p43CXqq1Hqi1Hgy8BLxq86TCrZytruNP644yrk8EwxNCTccRhs1Ot1By9gKr9h0zHcWlWbNCTwFytNa5Wus6YDlwa+sDtNbnWl0MAuT9vOInvbXuKOdrG3hmkgzgEnB9nwh6hAcxf32ujAO4CtYUejRQ1Opyccvn/oFS6lGl1FGaV+hPtPWNlFKzlVJZSqms8vLyK8kr3EDp2Qu8uzmfnw2Jpk9kiOk4wgl4eSlmp1s4eOwcm3JOmY7jsqwp9LYe3Pynf0K11vO01j2A54DftvWNtNYLtNbJWuvk8HDZhcZTvfbNYdDw1PhepqMIJ3LbkGjCOvozf8NR01FcljWFXgzEtrocA5T+xPHLgduuJpRwX0dOVPLRjmJmpMYT0yXQdBzhRPx9vHnw2gQyjpzk+2Pn2v8C8U+sKfTtQJJSKlEp5QdMBVa2PkAp1XrW6U3AEdtFFO7k5TXZBPr58Nj1PU1HEU5oxoh4Av28WShDu65Iu4WutW4AHgPWAN8DK7TWB5RSLyilprQc9phS6oBSajfwFHC/3RILl7Wj4AxfHTzBnHQLoUF+puMIJ9Qp0Je7h8eyck8ppWcvmI7jcnysOUhrvQpYddHnftfq47k2ziXczA8DuMI6+vNwWqLpOMKJPTw6kfe2FLB4Ux6/uUne0nI55J2iwiHWZZezLe80c8f1JNDPqnWE8FAxXQK5aWB3lm0r4lxNvek4LkUKXdhdU1Pz6jy+ayBTU+JMxxEuYHa6hfO1DSzLlHEAl0MKXdjdZ3tKOHS8kl9N6I2vt/zKifYNiO7EqB5dWbwpn7oGGQdgLbl3CbuqbWjkD2sO0z8qhJsHdjcdR7iQ2ekWjp+rYeWen3qVtGhNCl3Y1ZKthZScvcBzk/rgJeNxxWUY0yuc3t2CWbhBxgFYSwpd2E1lTT1vrs1hVI+upCWFmY4jXIxSilnpFrJPVLL+sIwKsYYUurCbhRl5nK6q47lJMh5XXJkpg6KIDAlggbzRyCpS6MIuyitrWZSRy40DIxkU29l0HOGi/Hy8ePDaBDYfPcX+kgrTcZyeFLqwize/O0JtQxNPT5DxuOLq3DMijo7+PsyXVXq7pNCFzRWeqmbptkLuHh6LJbyj6TjCxYUE+DJtRByr9h2j6HS16ThOTQpd2NwrX2fj7aWYOy6p/YOFsMIDoxJQwDub8kxHcWpS6MKmDpRW8NnuUh66NpFuIQGm4wg3EdW5A1MGRfHB9iIqqmUcwKVIoQubeml1Np06+DJnTA/TUYSbmZVuobqukfczC0xHcVpS6MJmNh89yfrD5Tw6tgedOviajiPcTN/uIaT3Cmfxpnxq6htNx3FKUujCJprH42bTvVMA941MMB1HuKk56RZOnq/l010lpqM4JSl0YROr9x9nT9FZnryhFwG+3qbjCDc1qkdX+nUPYWFGLk1NMg7gYlLo4qo1NDbx8lfZ9IzoyM+HRpuOI9yYUoo5YywcLa/iu0NlpuM4HSl0cdU+3FFMbnkVz0zsjY+MxxV2duPA7kR37iDjANog9z5xVS7UNfLaN4cZGteZCf26mY4jPICvtxcPjU5kW/5pdhWeMR3HqUihi6vy7uZ8Tpyr5fnJfWUAl3CYu4fHEhLgI6v0i0ihiytWUV3Pn9blcH2fCFISQ03HER6ko78P01PjWX3gOAWnqkzHcRpS6OKKvbU+h8raBp6dJAO4hOM9OCoBXy8vFmXIOIAfSKGLK3Ks4gLvbsrnZ4Oj6RMZYjqO8EARIQHcNiSKD3cUcbqqznQcpyCFLq7Ia18fQWt4cnwv01GEB5uVZqGmvon3tuSbjuIUpNDFZcspq+TDHUVMT40jNjTQdBzhwZK6BXN9nwje21LAhToZByCFLi7by2uyCfTz4bGxPU1HEYLZ6RZOV9Xxt53FpqMYJ4UuLsvOwjOsOXCCWWkWunb0Nx1HCEYkhjIophOLMnJp9PBxAFLowmpaa1788hBhHf2YmZZoOo4QQPM4gNnpPcg/Vc3XB4+bjmOUFLqw2rrD5WTmnebx65MI8vcxHUeIH00aEElsaAfmb8hFa89dpUuhC6s0NWleWp1NXGgg96TEmY4jxD/w9lLMHG1hV+FZdhR47jgAKXRhlZV7Svn+2Dl+NaEXfj7yayOcz53JMXQO9GW+B48DkHumaFddQxOvfJ1N/6gQbrkmynQcIdoU6OfDfanxfPP9CY6WnzcdxwgpdNGupZkFFJ2+wLOT+uDlJQO4hPO6b1QCft5eLMrwzFW6VYWulJqklMpWSuUopZ5v4/qnlFIHlVJ7lVLfKqXibR9VmHC+toE3vsthpKUr6UlhpuMI8ZPCOvpz+7AY/razhPLKWtNxHK7dQldKeQPzgMlAP+AepVS/iw7bBSRrra8BPgJesnVQYcbCDbmcqqrjucl9ZDyucAkzRydS3+iZ4wCsWaGnADla61ytdR2wHLi19QFa67Va6+qWi1uBGNvGFCacPF/LooxcJg+IZHBsZ9NxhLCKJbwj4/t2469bC6iuazAdx6GsKfRooKjV5eKWz13Kw8CXbV2hlJqtlMpSSmWVl5dbn1IY8eZ3OdQ0NPH0RBmPK1zLnDEWzlbXs2J7UfsHuxFrCr2tv7PbfOW+UmoGkAy83Nb1WusFWutkrXVyeHi49SmFwxWeqmZJZgF3JcfQI7yj6ThCXJZh8aEMi+/Coo15NDQ2mY7jMNYUejEQ2+pyDFB68UFKqRuA3wBTtNae92yEm3n162y8lGLuOBmPK1zT7HQLxWcu8OV+zxkHYE2hbweSlFKJSik/YCqwsvUBSqkhwHyay7zM9jGFIx0sPcdne0p5aHQikZ0CTMcR4orc0LcbiWFBLPCgcQDtFrrWugF4DFgDfA+s0FofUEq9oJSa0nLYy0BH4EOl1G6l1MpLfDvhAl5ac4iQAF8eGdPDdBQhrpi3l2JmWiL7SirYmnvadByHsGrCktZ6FbDqos/9rtXHN9g4lzBka+4p1mWX8+vJfejUwdd0HCGuyu1DY3j1q8Ms2HCUkT26mo5jd/JOUfEjrTX/78tDdO8UwP2jEkzHEeKqBfh6c/+oBNZml3P4RKXpOHYnhS5+tObAcXYXneWXNyQR4OttOo4QNjEjNZ4AXy8WeMDQLil0AUBDYxMvrcmmR3gQtw+V94UJ9xEa5MddybF8truEE+dqTMexKyl0AcBHO4rJLa/imYl98PGWXwvhXmaOttDYpFm8Kd90FLuSe66gpr6R1745wpC4zkzs3810HCFsLq5rIJMHdGdJZgHna913HIAUuuDdzfkcP1fDc5NkAJdwX7PTLVTWNLB8W6HpKHYjhe7hKqrreWttDtf1DifV4v4v6xKea1BsZ1ISQ3lnYx71bjoOQArdw/1p/VEqaxt4dmIf01GEsLs56RZKK2r4Yu8x01HsQgrdgx2vqGHxpjxuGxxNv6gQ03GEsLuxvSPoGdGR+W46DkAK3YO9/u1hmrTmqfEygEt4Bi8vxew0C98fO8fGnJOm49icFLqHyik7z4qsYqaPiCc2NNB0HCEc5tYhUYQH+7vlG42k0D3UH9ZkE+DjxWPX9zQdRQiH8vfx5oFRCWQcOcnB0nOm49iUFLoH2lV4htUHjjMr3UJYR3/TcYRwuBkj4gn082Zhhnut0qXQPYzWmhdXH6JrkB8z0yym4whhRKdAX6YOj+Pve0opPXvBdBybkUL3MOsPl7M19zSPX9+Tjv5WTU8Wwi09NDoBDbyzMc90FJuRQvcgTU2aF1dnExvagWkj4k3HEcKomC6B3HxNd5ZtK6TiQr3pODYhhe5B/r63lO+PneNX43vj5yM/eiFmpVmoqmtkmZuMA5B7tYeoa2jila8O07d7CFMGRZmOI4RTGBDdiWt7dmXxpjzqGlx/HIAUuodYtq2QwtPVPDepN15eMoBLiB/MTu/BiXO1fLa7xHSUqyaF7gGqaht447sjpFpCGdMr3HQcIZxKelIYfSKDWZjh+uMApNA9wKKMPE6er5PxuEK0QSnFrDQLh0+cZ112uek4V0UK3c2VnathwYajTOofyZC4LqbjCOGUbhkURWRIgMuPA5BCd2Nbc08x5c1N1Ddpnp7Y23QcIZyWn48XD41OYEvuKfYVV5iOc8Wk0N1QQ2MTr359mGkLt9LBz5uPfzGKnhEdTccSwqndkxJHsL8P8zccNR3lislbBd1M6dkLzF2+i+35Z7h9aAwv3NqfIHlHqBDtCg7wZdqIOBZm5FJ0utolp5DKCt2NrDlwnMmvZ3Cw9Byv3T2YV+4aJGUuxGV44NoEvJTizy46DkAK3Q3U1Dfyb5/uZ85fdxAXGsgXT6Rx25Bo07GEcDndO3VgyuAoPthexNnqOtNxLpsUuovLKavktnmb+OvWAmalJfK3X4wiISzIdCwhXNbsdAsX6ht5f2uB6SiXTQrdRWmtWb6tkJvf2Eh5ZS2LHxzOb27qJzNahLhKfSJDGNMrnHc3F1BT32g6zmWRe78LOldTz+PLdvH8x/sYFt+FL+emMbZ3hOlYQriNOekWTp6v5ZNdrjUOQJ4xczE7C8/wxLJdHKuo4dlJvXkkvYfMZhHCxkb26Er/qBAWZuRyd3Ksy9zHZIXuIpqaNG+ty+Gut7cA8OEjI/mX63q6zC+aEK5EKcXsdAu55VV8e6jMdByrSaG7gLLKGu57Zxsvrc5mYv9IvngijaHyNn4h7Oqmgd2J7tyBBS70RiOrCl0pNUkpla2UylFKPd/G9elKqZ1KqQal1B22j+m51mWXMfm1DLIKTvPfPx/Im9OG0KmDr+lYQrg9H28vHh6dyPb8M+wsPGM6jlXaLXSllDcwD5gM9APuUUr1u+iwQuABYKmtA3qquoYm/u+q73lg8XbCOvrz98dGc09KnExLFMKB7h4eS0iADwvWu8bQLmueFE0BcrTWuQBKqeXArcDBHw7QWue3XOf6W344gfyTVTyxfBd7iyuYkRrHb2/qR4Cvt+lYQnicIH8fZqTG86f1R8k/WeX07/Gw5iGXaKCo1eXils9dNqXUbKVUllIqq7zctecO28tnu0u4+Y2N5J+s4u0ZQ/n9bQOlzIUw6IFRCfh6ebFoo/Ov0q0p9Lb+xr+ibT201gu01sla6+TwcNk5p7Wq2gae/nAPc5fvpk9kMF/+Mp1JA7qbjiWEx4sICeBnQ6L5MKuYU+drTcf5SdYUejEQ2+pyDFBqnzie6UBpBbe8sZG/7Szmiet7snx2KtGdO5iOJYRoMSs9kdqGJt7b4tzjAKwp9O1AklIqUSnlB0wFVto3lmfQWrN4Ux4/m7eZqroGls5M5akJvfHxlleTCuFMekYEM65PBO9tyedCnfOOA2i3ObTWDcBjwBrge2CF1vqAUuoFpdQUAKXUcKVUMXAnMF8pdcCeod3B6ao6Zr2XxX/8/SBpSWF8OTedkT26mo4lhLiE2ekWzlTX89HOYtNRLsmqt/5rrVcBqy763O9afbyd5odihBW2HD3FLz/YxZmqev7PLf14YFSCvBxRCCeXkhjKoNjOLMrIZVpKHN5O+C5t+dvegRoam3j1q2ymLdpKkJ8PH//LKB68NlHKXAgXoJRiTrqFglPVfHXguOk4bZLhXA5ScvYCv2zZGu6OYTH8xxTZGk4IVzOxfyRxoYHM35DLpAGRTrcYkxW6A6zef5wbX8/g+2OVvHb3YP5wp2wNJ4Qr8vZSzExLZHfRWbbnO984ACl0O6qpb+S3n+7jkfd3EN81kC+eGC1bwwnh4u4cFkuXQF8WbHC+NxrJMtFOjpyo5PFluzh0vJLZ6RaentBbdhMSwg108PPm3pEJ/PHbI+SUnadnREfTkX4kDWNjWmuWbSvkljebt4Z798Hh/OuNfaXMhXAj94+Mx9/Hi0UZzrVKl5axoYoL9Ty2dBe//ngfyfGhfDk3jetkazgh3E7Xjv7cMSyGj3eWUFZZYzrOj6TQbWRn4Rlu+mMGaw4c57lJfXjvoWEgD2AAAAmOSURBVBQiQgJMxxJC2MnMNAv1TU38ZXO+6Sg/kkK/Sj9sDXdny9ZwKx4ZyS+uk30+hXB3iWFBTOjXjfe3FlJV22A6DiCFflXKztVw7zuZvLQ6m0kDZGs4ITzN7PQeVFyoZ0VWUfsHO4AU+hVal13G5Ncz2FFwhhdvH8ib98jWcEJ4mmHxXUiO78KfN+bR0Gh+fx8p9MtU19DEf31xkAcWbyc8uHlruLuHy9ZwQniqWekWis9cYNV+8+MA5HXol6H11nD3psbzm5v6ym5CQni48X27YQkLYsGGo9xyTXejiztZoVvp010l3PTHDApOVfP2jGH8520DpMyFEHh5KWamWdhfco4tuafMZjF66y6gqraBX63Ywy8/2E2/qBBWzU1j0oBI07GEEE7k50OjCevoZ3wcgBT6T9hf0rw13Ce7inliXBLLZsnWcEKIfxbg6839IxNYl11O9vFKYzmk0NugteadjXn8/K3NVNc1snRWKk+N7yVbwwkhLmlGajwdfL2NrtKloS5yuqqOmX/J4oXPD5LeK4xVc9NItcjWcEKIn9YlyI+7kmNYuaeE4xVmxgFIobey5egpJr++gYwjJ/n3W/qx8L5kQoP8TMcSQriImWkWGps0izfnGbl9KXSat4Z75Yet4fx9+OTRUTwgW8MJIS5TbGggkwd2Z+nWQipr6h1++x5f6CVnLzB1wVbe+C6HO4bG8PfHRtM/qpPpWEIIFzUn3UJlbQPLtzl+HIBHv7Fo9f5jPPvRXpo0vD51MLcOlt2EhBBX55qYzoxIDOWdTXk8cG0Cvg58MYVHrtBr6hv5zSf7eOT9nSSEBfHFE6OlzIUQNjNnjIVjFTV8vrfUobfrcSv0wycqeXzpLrJPVDIn3cKvZGs4IYSNXdcrgqSIjsxfn8ttg6Md9nycxzSZ1pqlmYVMeXMjp6pq+ctDKfxatoYTQtiBl5diVrqFQ8cryThy0nG367BbMuiHreH+9ZN9DE8IZdXcNMb0CjcdSwjhxm4dHEVEsL9D32jk9oW+o+AMN77evDXc85P78JcHU4gIlq3hhBD25e/jzQPXJrAx5yT7SyoccptuW+hNTZp5a3O4a/4WlIIPHxnJI2NkazghhONMHxFPkJ83izIcs0p3y0L/YWu4l9dkM3lAJKvmpjFEtoYTQjhYpw6+TE2J4+97j1Fy9oLdb8/tCn3tRVvDvXHPEEICZGs4IYQZD41OBOCdjfYfB+A2hV7X0MTvPz/Igy1bw33+uGwNJ4QwL7pzB26+pjvLtxVSccG+4wDcotDzT1Zx+582s2hjHveNjOfTR6+lZ0Sw6VhCCAHA7HQLVXWNLMkssOvtuHyhf7KrmJv+mEHh6Wrm3zuMF26VreGEEM6lf1QnRvcM491N+dQ2NNrtdqwqdKXUJKVUtlIqRyn1fBvX+yulPmi5PlMplWDroBerqm3gqRW7efKDPfSP6sSXc9OY2F+2hhNCOKfZ6RbKKmv5bLf9xgG0W+hKKW9gHjAZ6Afco5Tqd9FhDwNntNY9gf8BXrR10Nb2l1Rw8xsb+XRXCXPHJbF01giiZGs4IYQTS0sKo09kMAs35NLUpO1yG9as0FOAHK11rta6DlgO3HrRMbcCf2n5+CNgnLLTs5EfZhXx87c2c6Fla7gnZWs4IYQLUEoxO93CkbLzrDtcZpfbsKYJo4HWg32LWz7X5jFa6wagAvinfduUUrOVUllKqazy8vIrCpwYFsTYPuF8KVvDCSFczC2DohjbOxw/b/s8z2fNtMW2VtoX/71gzTForRcACwCSk5Ov6G+O5IRQkhNCr+RLhRDCKF9vLxY/mGK372/NCr0YiG11OQa4+FH9H49RSvkAnYDTtggohBDCOtYU+nYgSSmVqJTyA6YCKy86ZiVwf8vHdwDfaa3t86i/EEKINrX7kIvWukEp9RiwBvAG3tFaH1BKvQBkaa1XAn8G/qqUyqF5ZT7VnqGFEEL8M6t2LNJarwJWXfS537X6uAa407bRhBBCXA55vZ8QQrgJKXQhhHATUuhCCOEmpNCFEMJNKFOvLlRKlQNXOksyDHDcVtrOQc7ZM8g5e4arOed4rXWbu9wbK/SroZTK0lonm87hSHLOnkHO2TPY65zlIRchhHATUuhCCOEmXLXQF5gOYICcs2eQc/YMdjlnl3wMXQghxD9z1RW6EEKIi0ihCyGEm3DqQnfGzantzYpzfkopdVAptVcp9a1SKt5ETltq75xbHXeHUkorpVz+JW7WnLNS6q6Wn/UBpdRSR2e0NSt+t+OUUmuVUrtafr9vNJHTVpRS7yilypRS+y9xvVJK/bHl/8depdTQq75RrbVT/kfzqN6jgAXwA/YA/S465l+At1s+ngp8YDq3A855LBDY8vEvPOGcW44LBjYAW4Fk07kd8HNOAnYBXVouR5jO7YBzXgD8ouXjfkC+6dxXec7pwFBg/yWuvxH4kuYd31KBzKu9TWdeoTvV5tQO0u45a63Xaq2rWy5upXkHKVdmzc8Z4D+Bl4AaR4azE2vOeRYwT2t9BkBrbZ9dhR3HmnPWQEjLx534553RXIrWegM/vXPbrcB7utlWoLNSqvvV3KYzF7rNNqd2Idacc2sP0/wvvCtr95yVUkOAWK31544MZkfW/Jx7Ab2UUpuUUluVUpMcls4+rDnnfwdmKKWKad5/4XHHRDPmcu/v7bJqgwtDbLY5tQux+nyUUjOAZGCMXRPZ30+es1LKC/gf4AFHBXIAa37OPjQ/7HIdzX+FZSilBmitz9o5m71Yc873AO9qrV9RSo2keRe0AVrrJvvHM8Lm/eXMK3RP3JzamnNGKXUD8Btgita61kHZ7KW9cw4GBgDrlFL5ND/WuNLFnxi19nf7M611vdY6D8imueBdlTXn/DCwAkBrvQUIoHmIlbuy6v5+OZy50D1xc+p2z7nl4Yf5NJe5qz+uCu2cs9a6QmsdprVO0Fon0Py8wRStdZaZuDZhze/2pzQ/AY5SKozmh2ByHZrStqw550JgHIBSqi/NhV7u0JSOtRK4r+XVLqlAhdb62FV9R9PPBLfzLPGNwGGanx3/TcvnXqD5Dg3NP/APgRxgG2AxndkB5/wNcALY3fLfStOZ7X3OFx27Dhd/lYuVP2cFvAocBPYBU01ndsA59wM20fwKmN3ABNOZr/J8lwHHgHqaV+MPA48Aj7T6Gc9r+f+xzxa/1/LWfyGEcBPO/JCLEEKIyyCFLoQQbkIKXQgh3IQUuhBCuAkpdCGEcBNS6EII4Sak0IUQwk38fyG+FfLux9HQAAAAAElFTkSuQmCC\n",
      "text/plain": [
       "<Figure size 432x288 with 1 Axes>"
      ]
     },
     "metadata": {
      "needs_background": "light"
     },
     "output_type": "display_data"
    }
   ],
   "source": [
    "### only 5 grid points\n",
    "binom_grid_approximation(5, 3, 5)"
   ]
  },
  {
   "cell_type": "code",
   "execution_count": 19,
   "metadata": {},
   "outputs": [
    {
     "data": {
      "image/png": "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\n",
      "text/plain": [
       "<Figure size 432x288 with 1 Axes>"
      ]
     },
     "metadata": {
      "needs_background": "light"
     },
     "output_type": "display_data"
    }
   ],
   "source": [
    "### 1000 grid points\n",
    "binom_grid_approximation(1000, 500, 1000)"
   ]
  },
  {
   "cell_type": "markdown",
   "metadata": {},
   "source": [
    "### Quadratic Approximation\n",
    "\n",
    "If you have one parameter with 100 values in the grid that is a 100^1 calculation. with two that is 100^2. This can get huge with lots of parameters for grid approximation.\n",
    "\n",
    "Instead we can use **quadratic approximation**. Under general condtions, region near the peak of the posterior distribution will be nearly Gaussian or \"normal\" - therefore we can use a Gaussian distribution. THis is useful because it can be described by two numbers - its mean (middle) and variance (spread).\n",
    "\n",
    "Its called a gaussian distribbution bc the log of a Gauss distribution is a parabola. And a parabola is a quadratic function. So this is a log-posterior with a parabola.\n",
    "\n",
    "1. Find posterior mode (algorithm climbs the distribution, looks for \"peak\")\n",
    "2. Once at peak, estimate curvature."
   ]
  },
  {
   "cell_type": "markdown",
   "metadata": {},
   "source": [
    "### Grid Approximation\n",
    "1. W W W\n",
    "2. W W W L\n",
    "3. L W W L W W W "
   ]
  },
  {
   "cell_type": "code",
<<<<<<< HEAD:notebooks/rethinking/Chapter_2.ipynb
   "execution_count": 17,
=======
   "execution_count": 21,
>>>>>>> decb334aa65010b1660a2f89b1c2bf62b25d0645:notebooks/Chapter_2.ipynb
   "metadata": {},
   "outputs": [],
   "source": [
    "def plot_posterior_grid_approx(w, n):\n",
    "    ### define grid\n",
    "    p_grid = np.linspace(0, 1, 20)\n",
    "\n",
    "    ### define prior\n",
    "    prior = np.repeat(1, 20)\n",
    "\n",
    "    ### likelihood at each value in grid\n",
    "    likelihood = ss.binom.pmf(w, n, p=p_grid)\n",
    "\n",
    "    ### compute product of likelihood and prior\n",
    "    unstd_posterior = likelihood * prior\n",
    "\n",
    "    ### standardize posterior\n",
    "    posterior = unstd_posterior / sum(unstd_posterior)\n",
    "\n",
    "    # plot\n",
    "    plt.plot(p_grid, posterior)"
   ]
  },
  {
   "cell_type": "code",
<<<<<<< HEAD:notebooks/rethinking/Chapter_2.ipynb
   "execution_count": 18,
=======
   "execution_count": 22,
>>>>>>> decb334aa65010b1660a2f89b1c2bf62b25d0645:notebooks/Chapter_2.ipynb
   "metadata": {},
   "outputs": [
    {
     "data": {
      "text/plain": [
       "None"
      ]
     },
     "metadata": {},
     "output_type": "display_data"
    },
    {
     "data": {
      "text/plain": [
       "None"
      ]
     },
     "metadata": {},
     "output_type": "display_data"
    },
    {
     "data": {
      "text/plain": [
       "None"
      ]
     },
     "metadata": {},
     "output_type": "display_data"
    },
    {
     "data": {
      "image/png": "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\n",
      "text/plain": [
       "<Figure size 432x288 with 1 Axes>"
      ]
     },
     "metadata": {
      "needs_background": "light"
     },
     "output_type": "display_data"
    }
   ],
   "source": [
    "###  W W W \n",
    "display(plot_posterior_grid_approx(3, 3))\n",
    "\n",
    "display(plot_posterior_grid_approx(3, 4))\n",
    "\n",
    "display(plot_posterior_grid_approx(5, 7))"
   ]
  },
  {
   "cell_type": "code",
   "execution_count": 23,
   "metadata": {},
   "outputs": [
    {
     "data": {
      "image/png": "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\n",
      "text/plain": [
       "<Figure size 432x288 with 1 Axes>"
      ]
     },
     "metadata": {
      "needs_background": "light"
     },
     "output_type": "display_data"
    }
   ],
   "source": [
    "prior = [0 if x < 0.5 else 1 for x in p_grid]\n",
    "binom_grid_approximation(20, 3, 3, prior)\n",
    "binom_grid_approximation(20, 3, 4, prior)\n",
    "binom_grid_approximation(20, 5, 7, prior)\n",
    "\n",
    "### plaus of parameter being true under 0.5 is 0 due to prior"
   ]
  },
  {
   "cell_type": "markdown",
   "metadata": {},
   "source": [
    "### 4. Calculate prob of Earth given Land If:\n",
    "Pr(L|E) = 0.3 \n",
    "Pr(L|M) = 1.0\n",
    "Pr(E) = 0.5\n",
    "Pr(M) = 0.5\n",
    "\n",
    "Pr(E|L) = Pr(L|E)Pr(E) / (Pr(L|E)Pr(E) + Pr(L|M)Pr(M)) \n",
    "\n",
    "==\n",
    "\n",
    "Pr(E|L) = (0.3 * 0.5) / ((0.3 * 0.5) + (1.0 * 0.5))"
   ]
  },
  {
   "cell_type": "code",
   "execution_count": 24,
   "metadata": {},
   "outputs": [
    {
     "data": {
      "text/plain": [
       "0.23076923076923075"
      ]
     },
     "execution_count": 24,
     "metadata": {},
     "output_type": "execute_result"
    }
   ],
   "source": [
    "(0.3 * 0.5) / ((0.3 * 0.5) + (1 * 0.5))"
   ]
  },
  {
   "cell_type": "markdown",
   "metadata": {},
   "source": [
    "### 2H1"
   ]
  },
  {
   "cell_type": "code",
   "execution_count": 43,
   "metadata": {},
   "outputs": [
    {
     "data": {
      "text/plain": [
       "0.15000000000000002"
      ]
     },
     "execution_count": 43,
     "metadata": {},
     "output_type": "execute_result"
    }
   ],
   "source": [
    ".1 * 0.5 + 0.2 * 0.5"
   ]
  },
  {
   "cell_type": "code",
   "execution_count": 44,
   "metadata": {},
   "outputs": [
    {
     "data": {
      "text/plain": [
       "0.33333333333333337"
      ]
     },
     "execution_count": 44,
     "metadata": {},
     "output_type": "execute_result"
    }
   ],
   "source": [
    "(0.1 * 0.5 ) / 0.15"
   ]
  },
  {
   "cell_type": "code",
   "execution_count": 45,
   "metadata": {},
   "outputs": [
    {
     "data": {
      "text/plain": [
       "0.6666666666666667"
      ]
     },
     "execution_count": 45,
     "metadata": {},
     "output_type": "execute_result"
    }
   ],
   "source": [
    "(0.2 * 0.5) / 0.15"
   ]
  },
  {
   "cell_type": "code",
   "execution_count": 47,
   "metadata": {},
   "outputs": [
    {
     "data": {
      "text/plain": [
       "0.16640000000000002"
      ]
     },
     "execution_count": 47,
     "metadata": {},
     "output_type": "execute_result"
    }
   ],
   "source": [
    "0.1 * 0.33 + 0.2 * 0.667"
   ]
  },
  {
   "cell_type": "code",
   "execution_count": 48,
   "metadata": {},
   "outputs": [
    {
     "data": {
      "text/plain": [
       "0.33333333333333337"
      ]
     },
     "execution_count": 48,
     "metadata": {},
     "output_type": "execute_result"
    }
   ],
   "source": [
    "(0.1 * 0.5) / 0.15"
   ]
  },
  {
   "cell_type": "code",
   "execution_count": 49,
   "metadata": {},
   "outputs": [
    {
     "data": {
      "text/plain": [
       "0.8330000000000001"
      ]
     },
     "execution_count": 49,
     "metadata": {},
     "output_type": "execute_result"
    }
   ],
   "source": [
    "(0.9 * 0.33) + (0.8 * 0.67)"
   ]
  },
  {
   "cell_type": "code",
   "execution_count": 50,
   "metadata": {},
   "outputs": [
    {
     "data": {
      "text/plain": [
       "0.3578313253012049"
      ]
     },
     "execution_count": 50,
     "metadata": {},
     "output_type": "execute_result"
    }
   ],
   "source": [
    "(.9 * 0.33) / 0.83"
   ]
  },
  {
   "cell_type": "code",
   "execution_count": 52,
   "metadata": {},
   "outputs": [
    {
     "data": {
      "text/plain": [
       "0.704"
      ]
     },
     "execution_count": 52,
     "metadata": {},
     "output_type": "execute_result"
    }
   ],
   "source": [
    "(0.8 * 0.36) + (0.65 * 0.64)"
   ]
  },
  {
   "cell_type": "code",
   "execution_count": 53,
   "metadata": {},
   "outputs": [
    {
     "data": {
      "text/plain": [
       "0.40909090909090906"
      ]
     },
     "execution_count": 53,
     "metadata": {},
     "output_type": "execute_result"
    }
   ],
   "source": [
    "(0.8 * 0.36) / 0.704"
   ]
  },
  {
   "cell_type": "markdown",
   "metadata": {},
   "source": [
    "### Stat Rethinking Problems\n",
    "\n",
    "https://github.com/rmcelreath/statrethinking_winter2019/blob/master/homework/week01.pdf\n",
    "\n",
    "1. 8 w / 16 tosses - grid approximation with flat prior"
   ]
  },
  {
   "cell_type": "code",
   "execution_count": 27,
   "metadata": {},
   "outputs": [],
   "source": [
    "### define grid - potentially prob for p\n",
    "p_grid = np.linspace(0, 1, 100)\n",
    "\n",
    "### define prior - here we use a flat prior\n",
    "prior = np.repeat(1, 100)\n",
    "\n",
    "### likelihood at each value in grid\n",
    "likelihood = ss.binom.pmf(8, 15, p=p_grid)\n",
    "\n",
    "### compute product of likelihood and prior\n",
    "unstd_posterior = likelihood * prior\n",
    "\n",
    "### standardize posterior\n",
    "posterior = unstd_posterior / sum(unstd_posterior)"
   ]
  },
  {
   "cell_type": "code",
   "execution_count": 28,
   "metadata": {},
   "outputs": [
    {
     "data": {
      "text/plain": [
       "[<matplotlib.lines.Line2D at 0x1faea59f608>]"
      ]
     },
     "execution_count": 28,
     "metadata": {},
     "output_type": "execute_result"
    },
    {
     "data": {
      "image/png": "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\n",
      "text/plain": [
       "<Figure size 432x288 with 1 Axes>"
      ]
     },
     "metadata": {
      "needs_background": "light"
     },
     "output_type": "display_data"
    }
   ],
   "source": [
    "plt.plot(p_grid, posterior)"
   ]
  },
  {
   "cell_type": "markdown",
   "metadata": {},
   "source": [
    "2. Prior below 0.5 is zero, constant above p = 0.5"
   ]
  },
  {
   "cell_type": "code",
   "execution_count": 29,
   "metadata": {},
   "outputs": [],
   "source": [
    "### define grid - potentially prob for p\n",
    "p_grid = np.linspace(0, 1, 100)\n",
    "\n",
    "### define prior - using knowledge we have \n",
    "prior = [0 if x < 0.5 else 1 for x in p_grid]\n",
    "\n",
    "### likelihood at each value in grid\n",
    "likelihood = ss.binom.pmf(8, 15, p=p_grid)\n",
    "\n",
    "### compute product of likelihood and prior\n",
    "unstd_posterior = likelihood * prior\n",
    "\n",
    "### standardize posterior\n",
    "posterior = unstd_posterior / sum(unstd_posterior)"
   ]
  },
  {
   "cell_type": "code",
   "execution_count": 30,
   "metadata": {},
   "outputs": [
    {
     "data": {
      "text/plain": [
       "[<matplotlib.lines.Line2D at 0x1faea46f7c8>]"
      ]
     },
     "execution_count": 30,
     "metadata": {},
     "output_type": "execute_result"
    },
    {
     "data": {
      "image/png": "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\n",
      "text/plain": [
       "<Figure size 432x288 with 1 Axes>"
      ]
     },
     "metadata": {
      "needs_background": "light"
     },
     "output_type": "display_data"
    }
   ],
   "source": [
    "plt.plot(p_grid, posterior)"
   ]
  },
  {
   "cell_type": "code",
   "execution_count": null,
   "metadata": {},
   "outputs": [],
   "source": []
  }
 ],
 "metadata": {
  "kernelspec": {
   "display_name": "Python 3",
   "language": "python",
   "name": "python3"
  },
  "language_info": {
   "codemirror_mode": {
    "name": "ipython",
    "version": 3
   },
   "file_extension": ".py",
   "mimetype": "text/x-python",
   "name": "python",
   "nbconvert_exporter": "python",
   "pygments_lexer": "ipython3",
   "version": "3.7.6"
  }
 },
 "nbformat": 4,
 "nbformat_minor": 2
}
