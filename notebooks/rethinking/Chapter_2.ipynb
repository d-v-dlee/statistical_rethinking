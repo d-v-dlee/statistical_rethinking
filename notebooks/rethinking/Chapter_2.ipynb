{
 "cells": [
  {
   "cell_type": "markdown",
   "metadata": {},
   "source": [
    "### Globe Example:\n",
    "You toss a small globe in the air, when you catch it you randomly place your index finger on it. You record if your finger landed on land (L) or water (W). Your results are:\n",
    "\n",
    "W L W W W L W L W\n",
    "\n",
    "**Bayesian design loops**\n",
    "1) Data story: narrate how the data might arrise\n",
    "2) Update: feed model data\n",
    "3) Evaluate: decide if it needs revision\n",
    "\n",
    "**Data story**:\n",
    "- true proportion of water covering globe is *p*\n",
    "- toss of globe has probability of *p* of producing W, and a probability of *1-p* of producing L\n",
    "- each globe toss is independent"
   ]
  },
  {
   "cell_type": "markdown",
   "metadata": {},
   "source": [
    "### 1) Likelihood - the mathematical formula that specifies the plausibility of the data"
   ]
  },
  {
   "cell_type": "code",
   "execution_count": 1,
   "metadata": {},
   "outputs": [],
   "source": [
    "import scipy.stats as ss\n",
    "import numpy as np"
   ]
  },
  {
   "cell_type": "code",
   "execution_count": 2,
   "metadata": {},
   "outputs": [
    {
     "name": "stdout",
     "output_type": "stream",
     "text": [
      "0.16406250000000006\n"
     ]
    }
   ],
   "source": [
    "# six heads on nine tosses with 0.5 chance of L\n",
    "w, n, p = 6, 9, 0.5\n",
    "prob = ss.binom.pmf(w, n, p)\n",
    "print(prob)"
   ]
  },
  {
   "cell_type": "code",
   "execution_count": 3,
   "metadata": {},
   "outputs": [
    {
     "name": "stdout",
     "output_type": "stream",
     "text": [
      "0.27306744192061744\n"
     ]
    }
   ],
   "source": [
    "w, n, p = 6, 9, 0.67\n",
    "prob = ss.binom.pmf(w, n, p)\n",
    "print(prob)"
   ]
  },
  {
   "cell_type": "markdown",
   "metadata": {},
   "source": [
    "This is the **likelihood**. The job of the likelihood is to tell us the relative number of ways to see the data *w* given values for *p* and *n*\n",
    "\n",
    "As sample size increases, likelihood matters more and more."
   ]
  },
  {
   "cell_type": "markdown",
   "metadata": {},
   "source": [
    "### 2) Parameters\n",
    "\n",
    "for likelihood functions, there are adjustable inputs - these are the parameters. One or all of these may be quantities that we wish to estimate from data.\n",
    "\n",
    "For our binomial distribution we have *p* (the probability of seeing W), *n* (sample size) and *w* (number of times water was seen). Here we are trying to learn *p* as we believe we have recorded *w* and *n* without error.\n",
    "\n",
    "In statistical modeling, most of the questions we ask are answered directly by parameters:\n",
    "- what is the avg difference between treatment group?\n",
    "- how strong is the association beteween a treatment and an outcome?\n",
    "- how much variation is there among groups?"
   ]
  },
  {
   "cell_type": "markdown",
   "metadata": {},
   "source": [
    "### 3) Prior\n",
    "for every parameter we want our Bayesian models to estimate, we must provide a **prior** (initial plausability)\n",
    "previous estimates can become future priors.\n",
    "\n",
    "Pr(p) = 1 / (1-0) = 1      every probability distribution must sum up to 1\n",
    "\n",
    "Priors are engineering assumptions. We generally want to avoid flat priors and want weakly informative priors. Priors are useful for constraining parameters to reasonable ranges as well as for expressing any knowledge we have about the parameter before any data is observed. \n",
    "\n",
    "For example, we know that p being 0 or 1 are completely implausible.\n",
    "\n",
    "If you dont have a strong argument for any particular prior, try different ones. Ultimately a prior is an assumption."
   ]
  },
  {
   "cell_type": "markdown",
   "metadata": {},
   "source": [
    "### 4) Posterior\n",
    "\n",
    "Once you have chosen a likelihood, which parameters are to be estimated, and a prior for each parameter, a Bayesian model treats the estimates as a purely logical consequence of those assumptions.\n",
    "\n",
    "For every unique combination of data, likelihood, parameters and prior, there is a unique set of estimates. The resulting estimates - the relative plausbility of different parameters values, condtional on the data - are known as the **Posterior Distribution**.\n",
    "\n",
    "This is through Bayes Theorem.\n",
    "\n",
    "Pr(w, p) = Pr(w|p)Pr(p)\n",
    "\n",
    "probability of w and p is the product of the likelihood of Pr(w|p) and the prior probability Pr(p). for example probability of rain and cold is equal to probability of rain, when its cold, times the probability of cold.\n",
    "\n",
    "Posterior = (Likelihood x Prior) / Average Likelihood\n",
    "\n",
    "Three main ways for computing Posterior Distrbutions.\n",
    "1. Grid Approximation\n",
    "2. Quadratic Approximation\n",
    "3. Markov chain Monte Carlo (MCMC)"
   ]
  },
  {
   "cell_type": "markdown",
   "metadata": {},
   "source": [
    "### Grid Approximation\n",
    "While most parameters are continunous, we can achieve a good approximation of continuous posterior distribution by only considering a finite grid of paramter values. For different values of p', we multiply the prior probability of p' by the likelihood at p'. \n",
    "\n",
    "Pros:\n",
    "- easy\n",
    "\n",
    "Cons:\n",
    "- scales poorly as number of parameter increases\n",
    "\n",
    "Recipe:\n",
    "1. define the grid (# of points, list of parameter values)\n",
    "2. Compute value of prior at each paramter value on the grid\n",
    "3. Compute likelihood at each parameter value\n",
    "4. Compute unstandardized posterior at each paramter value, multiplying the prior by likelihood\n",
    "5. standardize posterior by dividing each value by the sum of all values"
   ]
  },
  {
   "cell_type": "code",
   "execution_count": 10,
   "metadata": {},
   "outputs": [],
   "source": [
    "### define grid\n",
    "p_grid = np.linspace(0, 1, 20)\n",
    "#print(p_grid)\n",
    "\n",
    "### define prior\n",
    "prior = np.repeat(1, 20)\n",
    "#print(prior)\n",
    "\n",
    "### likelihood at each value in grid\n",
    "likelihood = ss.binom.pmf(6, 9, p=p_grid)\n",
    "#print(likelihood)\n",
    "\n",
    "### compute product of likelihood and prior\n",
    "unstd_posterior = likelihood * prior\n",
    "\n",
    "### standardize posterior\n",
    "posterior = unstd_posterior / sum(unstd_posterior)"
   ]
  },
  {
   "cell_type": "code",
   "execution_count": 11,
   "metadata": {},
   "outputs": [],
   "source": [
    "import matplotlib.pyplot as plt"
   ]
  },
  {
   "cell_type": "code",
   "execution_count": 12,
   "metadata": {},
   "outputs": [
    {
     "data": {
      "text/plain": [
       "[<matplotlib.lines.Line2D at 0x118d5d908>]"
      ]
     },
     "execution_count": 12,
     "metadata": {},
     "output_type": "execute_result"
    },
    {
     "data": {
      "image/png": "[encoded data removed]",
      "text/plain": [
       "<Figure size 432x288 with 1 Axes>"
      ]
     },
     "metadata": {
      "needs_background": "light"
     },
     "output_type": "display_data"
    }
   ],
   "source": [
    "plt.plot(p_grid, posterior)"
   ]
  },
  {
   "cell_type": "code",
   "execution_count": 35,
   "metadata": {},
   "outputs": [],
   "source": [
    "def binom_grid_approximation(p_grid_size, w, n, prior=None):\n",
    "    ### define grid\n",
    "    p_grid = np.linspace(0, 1, p_grid_size)\n",
    "\n",
    "    ### define prior\n",
    "    if not prior:\n",
    "        prior = np.repeat(1, p_grid_size)\n",
    "    else:\n",
    "        prior = prior\n",
    "\n",
    "    ### likelihood at each value in grid\n",
    "    likelihood = ss.binom.pmf(w, n, p=p_grid)\n",
    "\n",
    "    ### compute product of likelihood and prior\n",
    "    unstd_posterior = likelihood * prior\n",
    "\n",
    "    ### standardize posterior\n",
    "    posterior = unstd_posterior / sum(unstd_posterior)\n",
    "\n",
    "    plt.plot(p_grid, posterior)"
   ]
  },
  {
   "cell_type": "code",
   "execution_count": 24,
   "metadata": {},
   "outputs": [
    {
     "data": {
      "image/png": "[encoded data removed]",
      "text/plain": [
       "<Figure size 432x288 with 1 Axes>"
      ]
     },
     "metadata": {
      "needs_background": "light"
     },
     "output_type": "display_data"
    }
   ],
   "source": [
    "### only 5 grid points\n",
    "binom_grid_approximation(5)"
   ]
  },
  {
   "cell_type": "code",
   "execution_count": 25,
   "metadata": {},
   "outputs": [
    {
     "data": {
      "image/png": "[encoded data removed]",
      "text/plain": [
       "<Figure size 432x288 with 1 Axes>"
      ]
     },
     "metadata": {
      "needs_background": "light"
     },
     "output_type": "display_data"
    }
   ],
   "source": [
    "### 1000 grid points\n",
    "binom_grid_approximation(1000)"
   ]
  },
  {
   "cell_type": "code",
   "execution_count": 28,
   "metadata": {},
   "outputs": [
    {
     "data": {
      "image/png": "[encoded data removed]",
      "text/plain": [
       "<Figure size 432x288 with 1 Axes>"
      ]
     },
     "metadata": {
      "needs_background": "light"
     },
     "output_type": "display_data"
    }
   ],
   "source": [
    "prior = [0 if x < 0.5 else 1 for x in p_grid]\n",
    "binom_grid_approximation(20, prior)"
   ]
  },
  {
   "cell_type": "markdown",
   "metadata": {},
   "source": [
    "### Quadratic Approximation\n",
    "\n",
    "If you have one parameter with 100 values in the grid that is a 100^1 calculation. with two that is 100^2. This can get huge with lots of parameters for grid approximation.\n",
    "\n",
    "Instead we can use **quadratic approximation**. Under general condtions, region near the peak of the posterior distribution will be nearly Gaussian or \"normal\" - therefore we can use a Gaussian distribution. THis is useful because it can be described by two numbers - its mean (middle) and variance (spread).\n",
    "\n",
    "Its called a gaussian distribbution bc the log of a Gauss distribution is a parabola. And a parabola is a quadratic function. So this is a log-posterior with a parabola.\n",
    "\n",
    "1. Find posterior mode (algorithm climbs the distribution, looks for \"peak\")\n",
    "2. Once at peak, estimate curvature."
   ]
  },
  {
   "cell_type": "markdown",
   "metadata": {},
   "source": [
    "### Grid Approximation\n",
    "1. W W W\n",
    "2. W W W L\n",
    "3. L W W L W W W "
   ]
  },
  {
   "cell_type": "code",
   "execution_count": 17,
   "metadata": {},
   "outputs": [],
   "source": [
    "def plot_posterior_grid_approx(w, n):\n",
    "    ### define grid\n",
    "    p_grid = np.linspace(0, 1, 20)\n",
    "\n",
    "    ### define prior\n",
    "    prior = np.repeat(1, 20)\n",
    "\n",
    "    ### likelihood at each value in grid\n",
    "    likelihood = ss.binom.pmf(w, n, p=p_grid)\n",
    "\n",
    "    ### compute product of likelihood and prior\n",
    "    unstd_posterior = likelihood * prior\n",
    "\n",
    "    ### standardize posterior\n",
    "    posterior = unstd_posterior / sum(unstd_posterior)\n",
    "\n",
    "    # plot\n",
    "    plt.plot(p_grid, posterior)"
   ]
  },
  {
   "cell_type": "code",
   "execution_count": 18,
   "metadata": {},
   "outputs": [
    {
     "data": {
      "text/plain": [
       "None"
      ]
     },
     "metadata": {},
     "output_type": "display_data"
    },
    {
     "data": {
      "text/plain": [
       "None"
      ]
     },
     "metadata": {},
     "output_type": "display_data"
    },
    {
     "data": {
      "text/plain": [
       "None"
      ]
     },
     "metadata": {},
     "output_type": "display_data"
    },
    {
     "data": {
      "image/png": "[encoded data removed]",
      "text/plain": [
       "<Figure size 432x288 with 1 Axes>"
      ]
     },
     "metadata": {
      "needs_background": "light"
     },
     "output_type": "display_data"
    }
   ],
   "source": [
    "###  W W W \n",
    "display(plot_posterior_grid_approx(3, 3))\n",
    "\n",
    "display(plot_posterior_grid_approx(3, 4))\n",
    "\n",
    "display(plot_posterior_grid_approx(5, 7))"
   ]
  },
  {
   "cell_type": "code",
   "execution_count": 41,
   "metadata": {},
   "outputs": [
    {
     "data": {
      "image/png": "[encoded data removed]",
      "text/plain": [
       "<Figure size 432x288 with 1 Axes>"
      ]
     },
     "metadata": {
      "needs_background": "light"
     },
     "output_type": "display_data"
    }
   ],
   "source": [
    "prior = [0 if x < 0.5 else 1 for x in p_grid]\n",
    "binom_grid_approximation(20, 3, 3, prior)\n",
    "binom_grid_approximation(20, 3, 4, prior)\n",
    "binom_grid_approximation(20, 5, 7, prior)\n",
    "\n",
    "### plaus of parameter being true under 0.5 is 0 due to prior"
   ]
  },
  {
   "cell_type": "markdown",
   "metadata": {},
   "source": [
    "### 4. Calculate prob of Earth given Land If:\n",
    "Pr(L|E) = 0.3 \n",
    "Pr(L|M) = 1.0\n",
    "Pr(E) = 0.5\n",
    "Pr(M) = 0.5\n",
    "\n",
    "Pr(E|L) = Pr(L|E)Pr(E) / (Pr(L|E)Pr(E) + Pr(L|M)Pr(M)) \n",
    "\n",
    "==\n",
    "\n",
    "Pr(E|L) = (0.3 * 0.5) / ((0.3 * 0.5) + (1.0 * 0.5))"
   ]
  },
  {
   "cell_type": "code",
   "execution_count": 40,
   "metadata": {},
   "outputs": [
    {
     "data": {
      "text/plain": [
       "0.23076923076923075"
      ]
     },
     "execution_count": 40,
     "metadata": {},
     "output_type": "execute_result"
    }
   ],
   "source": [
    "(0.3 * 0.5) / ((0.3 * 0.5) + (1 * 0.5))"
   ]
  },
  {
   "cell_type": "markdown",
   "metadata": {},
   "source": [
    "### 2H1"
   ]
  },
  {
   "cell_type": "code",
   "execution_count": 43,
   "metadata": {},
   "outputs": [
    {
     "data": {
      "text/plain": [
       "0.15000000000000002"
      ]
     },
     "execution_count": 43,
     "metadata": {},
     "output_type": "execute_result"
    }
   ],
   "source": [
    ".1 * 0.5 + 0.2 * 0.5"
   ]
  },
  {
   "cell_type": "code",
   "execution_count": 44,
   "metadata": {},
   "outputs": [
    {
     "data": {
      "text/plain": [
       "0.33333333333333337"
      ]
     },
     "execution_count": 44,
     "metadata": {},
     "output_type": "execute_result"
    }
   ],
   "source": [
    "(0.1 * 0.5 ) / 0.15"
   ]
  },
  {
   "cell_type": "code",
   "execution_count": 45,
   "metadata": {},
   "outputs": [
    {
     "data": {
      "text/plain": [
       "0.6666666666666667"
      ]
     },
     "execution_count": 45,
     "metadata": {},
     "output_type": "execute_result"
    }
   ],
   "source": [
    "(0.2 * 0.5) / 0.15"
   ]
  },
  {
   "cell_type": "code",
   "execution_count": 47,
   "metadata": {},
   "outputs": [
    {
     "data": {
      "text/plain": [
       "0.16640000000000002"
      ]
     },
     "execution_count": 47,
     "metadata": {},
     "output_type": "execute_result"
    }
   ],
   "source": [
    "0.1 * 0.33 + 0.2 * 0.667"
   ]
  },
  {
   "cell_type": "code",
   "execution_count": 48,
   "metadata": {},
   "outputs": [
    {
     "data": {
      "text/plain": [
       "0.33333333333333337"
      ]
     },
     "execution_count": 48,
     "metadata": {},
     "output_type": "execute_result"
    }
   ],
   "source": [
    "(0.1 * 0.5) / 0.15"
   ]
  },
  {
   "cell_type": "code",
   "execution_count": 49,
   "metadata": {},
   "outputs": [
    {
     "data": {
      "text/plain": [
       "0.8330000000000001"
      ]
     },
     "execution_count": 49,
     "metadata": {},
     "output_type": "execute_result"
    }
   ],
   "source": [
    "(0.9 * 0.33) + (0.8 * 0.67)"
   ]
  },
  {
   "cell_type": "code",
   "execution_count": 50,
   "metadata": {},
   "outputs": [
    {
     "data": {
      "text/plain": [
       "0.3578313253012049"
      ]
     },
     "execution_count": 50,
     "metadata": {},
     "output_type": "execute_result"
    }
   ],
   "source": [
    "(.9 * 0.33) / 0.83"
   ]
  },
  {
   "cell_type": "code",
   "execution_count": 52,
   "metadata": {},
   "outputs": [
    {
     "data": {
      "text/plain": [
       "0.704"
      ]
     },
     "execution_count": 52,
     "metadata": {},
     "output_type": "execute_result"
    }
   ],
   "source": [
    "(0.8 * 0.36) + (0.65 * 0.64)"
   ]
  },
  {
   "cell_type": "code",
   "execution_count": 53,
   "metadata": {},
   "outputs": [
    {
     "data": {
      "text/plain": [
       "0.40909090909090906"
      ]
     },
     "execution_count": 53,
     "metadata": {},
     "output_type": "execute_result"
    }
   ],
   "source": [
    "(0.8 * 0.36) / 0.704"
   ]
  },
  {
   "cell_type": "code",
   "execution_count": null,
   "metadata": {},
   "outputs": [],
   "source": []
  }
 ],
 "metadata": {
  "kernelspec": {
   "display_name": "Python 3",
   "language": "python",
   "name": "python3"
  },
  "language_info": {
   "codemirror_mode": {
    "name": "ipython",
    "version": 3
   },
   "file_extension": ".py",
   "mimetype": "text/x-python",
   "name": "python",
   "nbconvert_exporter": "python",
   "pygments_lexer": "ipython3",
   "version": "3.7.3"
  }
 },
 "nbformat": 4,
 "nbformat_minor": 2
}
